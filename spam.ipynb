{
 "cells": [
  {
   "cell_type": "code",
   "execution_count": 1,
   "metadata": {},
   "outputs": [
    {
     "name": "stdout",
     "output_type": "stream",
     "text": [
      "[nltk_data] Downloading package stopwords to /home/fiona/nltk_data...\n",
      "[nltk_data]   Package stopwords is already up-to-date!\n",
      "[nltk_data] Downloading package punkt to /home/fiona/nltk_data...\n",
      "[nltk_data]   Package punkt is already up-to-date!\n"
     ]
    }
   ],
   "source": [
    "import pandas as pd\n",
    "import numpy as np\n",
    "import seaborn as sb\n",
    "import matplotlib.pyplot as plt\n",
    "import nltk\n",
    "nltk.download('stopwords')\n",
    "nltk.download('punkt')\n",
    "from nltk.stem import PorterStemmer\n",
    "from collections import Counter\n",
    "from sklearn import model_selection\n",
    "from sklearn.naive_bayes import MultinomialNB\n",
    "from sklearn.feature_extraction import DictVectorizer\n",
    "from sklearn.metrics import accuracy_score, classification_report\n",
    "from itertools import chain"
   ]
  },
  {
   "cell_type": "code",
   "execution_count": 2,
   "metadata": {},
   "outputs": [
    {
     "data": {
      "text/plain": [
       "ham      4827\n",
       "spam      747\n",
       "label       1\n",
       "Name: label, dtype: int64"
      ]
     },
     "execution_count": 2,
     "metadata": {},
     "output_type": "execute_result"
    }
   ],
   "source": [
    "data = []\n",
    "with open('SmsCollection.csv','r') as file:\n",
    "    for line in file:\n",
    "        label, text = line.split(';', 1)\n",
    "        data.append({'label' : label, 'text': text})\n",
    "\n",
    "df = pd.DataFrame(data)\n",
    "df.label.value_counts()"
   ]
  },
  {
   "cell_type": "code",
   "execution_count": 3,
   "metadata": {},
   "outputs": [],
   "source": [
    "df = df[df.label != 'label']\n",
    "df.label.value_counts()\n",
    "df_spam = pd.DataFrame(df[df.label == 'spam'])\n",
    "df_ham = pd.DataFrame(df[df.label == 'ham'])\n",
    "df.label = df.label.map({'ham':0, 'spam':1})"
   ]
  },
  {
   "cell_type": "code",
   "execution_count": 4,
   "metadata": {},
   "outputs": [],
   "source": [
    "def preprocess(text):\n",
    "    text = text.lower()\n",
    "    tokens = nltk.word_tokenize(text)\n",
    "    tokens = [t for t in tokens if len(t)>1]\n",
    "    stop_word_list = nltk.corpus.stopwords.words('english')\n",
    "    tokens = [t for t in tokens if t not in stop_word_list]\n",
    "    stemmer = PorterStemmer()\n",
    "    tokens = [stemmer.stem(t) for t in tokens]\n",
    "    return tokens\n",
    "    \n",
    "spam_words = []\n",
    "for text in df_spam.text:\n",
    "    spam_words.extend(preprocess(text))\n",
    "    \n",
    "ham_words = []\n",
    "for text in df_ham.text:\n",
    "    ham_words.extend(preprocess(text))\n",
    "\n",
    "all_word_count_dicts = []\n",
    "for text in df.text:\n",
    "    all_word_count_dicts.append(Counter(preprocess(text)))\n",
    "    \n",
    "all_words = spam_words + ham_words"
   ]
  },
  {
   "cell_type": "code",
   "execution_count": 5,
   "metadata": {},
   "outputs": [],
   "source": [
    "word_count_dict = Counter(all_words)\n",
    "sorted(word_count_dict.items(), key=lambda x:x[1], reverse=True)\n",
    "all_tokens = word_count_dict.keys()"
   ]
  },
  {
   "cell_type": "code",
   "execution_count": 6,
   "metadata": {},
   "outputs": [
    {
     "data": {
      "text/plain": [
       "[('call', 365),\n",
       " ('free', 217),\n",
       " ('txt', 169),\n",
       " ('ur', 144),\n",
       " ('text', 139),\n",
       " ('mobil', 135),\n",
       " ('stop', 118),\n",
       " ('claim', 115),\n",
       " ('repli', 112),\n",
       " ('prize', 94)]"
      ]
     },
     "execution_count": 6,
     "metadata": {},
     "output_type": "execute_result"
    }
   ],
   "source": [
    "# top 10 spam words\n",
    "sorted(Counter(spam_words).items(), key=lambda x:x[1], reverse=True)[:10]"
   ]
  },
  {
   "cell_type": "code",
   "execution_count": 7,
   "metadata": {},
   "outputs": [
    {
     "data": {
      "text/plain": [
       "[('...', 1251),\n",
       " (\"'s\", 422),\n",
       " ('go', 417),\n",
       " (\"'m\", 387),\n",
       " ('get', 359),\n",
       " (\"n't\", 349),\n",
       " ('gt', 318),\n",
       " ('lt', 316),\n",
       " ('come', 295),\n",
       " ('call', 290)]"
      ]
     },
     "execution_count": 7,
     "metadata": {},
     "output_type": "execute_result"
    }
   ],
   "source": [
    "# top 10 ham words\n",
    "sorted(Counter(ham_words).items(), key=lambda x:x[1], reverse=True)[:10]"
   ]
  },
  {
   "cell_type": "code",
   "execution_count": 8,
   "metadata": {},
   "outputs": [],
   "source": [
    "dv = DictVectorizer(sparse=True)\n",
    "all_features = dv.fit_transform(all_word_count_dicts)\n",
    "\n",
    "\n",
    "# split dataset into train and test set (80% and 20%)\n",
    "indices = np.arange(df.shape[0])\n",
    "features_train, features_test, target_train, target_test, i_train, i_test = model_selection.train_test_split(all_features, df.label, indices, test_size=0.2, random_state=0, stratify=df.label,shuffle=True)\n",
    "\n",
    "#features_train = all_features[i_train,:]\n",
    "#features_test = all_features[i_test,:]\n"
   ]
  },
  {
   "cell_type": "code",
   "execution_count": 9,
   "metadata": {},
   "outputs": [
    {
     "name": "stdout",
     "output_type": "stream",
     "text": [
      "training set:  4459 598 0.13411078717201166\n",
      "test set:  1115 149 0.1336322869955157\n"
     ]
    }
   ],
   "source": [
    "print('training set: ', len(target_train), sum(target_train), sum(target_train)/len(target_train))\n",
    "print('test set: ', len(target_test), sum(target_test), sum(target_test)/len(target_test))"
   ]
  },
  {
   "cell_type": "code",
   "execution_count": 10,
   "metadata": {},
   "outputs": [
    {
     "data": {
      "text/plain": [
       "GridSearchCV(cv=10, error_score='raise',\n",
       "       estimator=MultinomialNB(alpha=1.0, class_prior=None, fit_prior=True),\n",
       "       fit_params=None, iid=True, n_jobs=1,\n",
       "       param_grid={'alpha': array([0.1, 0.2, 0.3, 0.4, 0.5, 0.6, 0.7, 0.8, 0.9, 1. ])},\n",
       "       pre_dispatch='2*n_jobs', refit=True, return_train_score=True,\n",
       "       scoring='precision', verbose=0)"
      ]
     },
     "execution_count": 10,
     "metadata": {},
     "output_type": "execute_result"
    }
   ],
   "source": [
    "# parameter tuning using grid search and cross validation\n",
    "tuner = model_selection.GridSearchCV(MultinomialNB(), {'alpha' : np.linspace(0.1,1,10)}, scoring='precision', return_train_score=True, cv=10)\n",
    "tuner.fit(features_train, target_train)"
   ]
  },
  {
   "cell_type": "code",
   "execution_count": 11,
   "metadata": {},
   "outputs": [
    {
     "data": {
      "text/plain": [
       "{'mean_fit_time': array([0.00731339, 0.00535736, 0.00521204, 0.00545282, 0.00599163,\n",
       "        0.00535851, 0.00601192, 0.00557032, 0.00519893, 0.00511954]),\n",
       " 'mean_score_time': array([0.00232105, 0.00142376, 0.00144444, 0.00144048, 0.00157735,\n",
       "        0.00145292, 0.0018815 , 0.00145218, 0.00142179, 0.00142112]),\n",
       " 'mean_test_score': array([0.86578482, 0.86506655, 0.87087114, 0.87881767, 0.87858985,\n",
       "        0.88865191, 0.89399392, 0.8998017 , 0.90238556, 0.90621539]),\n",
       " 'mean_train_score': array([0.97742999, 0.97489279, 0.97575734, 0.97730438, 0.97743538,\n",
       "        0.9803145 , 0.98138381, 0.98302677, 0.98375308, 0.98447514]),\n",
       " 'param_alpha': masked_array(data=[0.1, 0.2, 0.30000000000000004, 0.4, 0.5, 0.6,\n",
       "                    0.7000000000000001, 0.8, 0.9, 1.0],\n",
       "              mask=[False, False, False, False, False, False, False, False,\n",
       "                    False, False],\n",
       "        fill_value='?',\n",
       "             dtype=object),\n",
       " 'params': [{'alpha': 0.1},\n",
       "  {'alpha': 0.2},\n",
       "  {'alpha': 0.30000000000000004},\n",
       "  {'alpha': 0.4},\n",
       "  {'alpha': 0.5},\n",
       "  {'alpha': 0.6},\n",
       "  {'alpha': 0.7000000000000001},\n",
       "  {'alpha': 0.8},\n",
       "  {'alpha': 0.9},\n",
       "  {'alpha': 1.0}],\n",
       " 'rank_test_score': array([ 9, 10,  8,  6,  7,  5,  4,  3,  2,  1], dtype=int32),\n",
       " 'split0_test_score': array([0.890625  , 0.9047619 , 0.91935484, 0.93442623, 0.93548387,\n",
       "        0.92063492, 0.92063492, 0.92063492, 0.92063492, 0.92063492]),\n",
       " 'split0_train_score': array([0.97431193, 0.97426471, 0.97242647, 0.97597043, 0.97959184,\n",
       "        0.98320896, 0.98130841, 0.98130841, 0.98499062, 0.98496241]),\n",
       " 'split1_test_score': array([0.89230769, 0.89230769, 0.890625  , 0.890625  , 0.890625  ,\n",
       "        0.90322581, 0.91803279, 0.91803279, 0.91666667, 0.91666667]),\n",
       " 'split1_train_score': array([0.97614679, 0.97431193, 0.97426471, 0.97781885, 0.97777778,\n",
       "        0.98137803, 0.98137803, 0.98504673, 0.98686679, 0.9887218 ]),\n",
       " 'split2_test_score': array([0.85074627, 0.83823529, 0.85074627, 0.890625  , 0.9047619 ,\n",
       "        0.90322581, 0.90322581, 0.93333333, 0.93333333, 0.93333333]),\n",
       " 'split2_train_score': array([0.976234  , 0.97262774, 0.97431193, 0.97605893, 0.97605893,\n",
       "        0.97781885, 0.97777778, 0.98507463, 0.98504673, 0.98501873]),\n",
       " 'split3_test_score': array([0.79166667, 0.8028169 , 0.8115942 , 0.8358209 , 0.82352941,\n",
       "        0.84848485, 0.84848485, 0.86153846, 0.86153846, 0.875     ]),\n",
       " 'split3_train_score': array([0.97790055, 0.97431193, 0.97610294, 0.97605893, 0.97601476,\n",
       "        0.97777778, 0.98141264, 0.97777778, 0.97777778, 0.97777778]),\n",
       " 'split4_test_score': array([0.84285714, 0.85507246, 0.85507246, 0.84285714, 0.84285714,\n",
       "        0.85507246, 0.85507246, 0.85507246, 0.85507246, 0.86764706]),\n",
       " 'split4_train_score': array([0.97435897, 0.9689781 , 0.9689781 , 0.9706422 , 0.974122  ,\n",
       "        0.97588126, 0.97951583, 0.98134328, 0.98134328, 0.98134328]),\n",
       " 'split5_test_score': array([0.93548387, 0.93548387, 0.93650794, 0.93650794, 0.93548387,\n",
       "        0.95081967, 0.95081967, 0.95081967, 0.95081967, 0.95      ]),\n",
       " 'split5_train_score': array([0.97440585, 0.97252747, 0.97247706, 0.97597043, 0.97592593,\n",
       "        0.97769517, 0.97951583, 0.98317757, 0.98317757, 0.98317757]),\n",
       " 'split6_test_score': array([0.81818182, 0.80882353, 0.83333333, 0.84615385, 0.84615385,\n",
       "        0.87301587, 0.88709677, 0.88709677, 0.90163934, 0.90163934]),\n",
       " 'split6_train_score': array([0.98158379, 0.97614679, 0.97790055, 0.97781885, 0.97781885,\n",
       "        0.98327138, 0.98324022, 0.98320896, 0.98320896, 0.98501873]),\n",
       " 'split7_test_score': array([0.85483871, 0.84375   , 0.84375   , 0.84375   , 0.84126984,\n",
       "        0.85245902, 0.86440678, 0.87931034, 0.87719298, 0.875     ]),\n",
       " 'split7_train_score': array([0.97802198, 0.97981651, 0.97981651, 0.97974217, 0.97781885,\n",
       "        0.98144712, 0.98510242, 0.98507463, 0.98689139, 0.9887218 ]),\n",
       " 'split8_test_score': array([0.89230769, 0.87878788, 0.87878788, 0.89230769, 0.890625  ,\n",
       "        0.890625  , 0.90322581, 0.90322581, 0.91803279, 0.93333333]),\n",
       " 'split8_train_score': array([0.98339483, 0.98158379, 0.97977941, 0.98148148, 0.97777778,\n",
       "        0.97959184, 0.98137803, 0.98320896, 0.98320896, 0.98499062]),\n",
       " 'split9_test_score': array([0.88888889, 0.890625  , 0.88888889, 0.875     , 0.875     ,\n",
       "        0.88888889, 0.88888889, 0.88888889, 0.88888889, 0.88888889]),\n",
       " 'split9_train_score': array([0.97794118, 0.97435897, 0.98151571, 0.98148148, 0.98144712,\n",
       "        0.98507463, 0.98320896, 0.98504673, 0.98501873, 0.98501873]),\n",
       " 'std_fit_time': array([2.53710934e-03, 2.75240061e-04, 6.63604570e-05, 1.63993748e-04,\n",
       "        1.04035683e-03, 1.98574992e-04, 2.07565191e-03, 7.38881019e-04,\n",
       "        9.14810845e-05, 1.71614496e-04]),\n",
       " 'std_score_time': array([1.52391769e-03, 6.95526332e-05, 8.63310482e-05, 5.84438590e-05,\n",
       "        2.18236143e-04, 1.33311125e-04, 1.36363961e-03, 1.16298884e-04,\n",
       "        5.46759043e-05, 3.11154423e-05]),\n",
       " 'std_test_score': array([0.04006136, 0.040541  , 0.03709027, 0.03513356, 0.03771586,\n",
       "        0.03101018, 0.03037372, 0.02945018, 0.02968437, 0.0273172 ]),\n",
       " 'std_train_score': array([0.0029162 , 0.00342999, 0.00377698, 0.00303997, 0.00196068,\n",
       "        0.00286171, 0.0020148 , 0.00223553, 0.00258429, 0.00306276])}"
      ]
     },
     "execution_count": 11,
     "metadata": {},
     "output_type": "execute_result"
    }
   ],
   "source": [
    "tuner.cv_results_"
   ]
  },
  {
   "cell_type": "code",
   "execution_count": 12,
   "metadata": {},
   "outputs": [
    {
     "data": {
      "text/plain": [
       "MultinomialNB(alpha=1.0, class_prior=None, fit_prior=True)"
      ]
     },
     "execution_count": 12,
     "metadata": {},
     "output_type": "execute_result"
    }
   ],
   "source": [
    "clf = MultinomialNB()\n",
    "clf.fit(features_train, target_train)"
   ]
  },
  {
   "cell_type": "code",
   "execution_count": 13,
   "metadata": {},
   "outputs": [
    {
     "name": "stdout",
     "output_type": "stream",
     "text": [
      "             precision    recall  f1-score   support\n",
      "\n",
      "          0       0.99      0.98      0.99       966\n",
      "          1       0.89      0.93      0.91       149\n",
      "\n",
      "avg / total       0.98      0.97      0.98      1115\n",
      "\n"
     ]
    }
   ],
   "source": [
    "prediction = clf.predict(features_test)\n",
    "print(classification_report(target_test, prediction))"
   ]
  },
  {
   "cell_type": "code",
   "execution_count": 14,
   "metadata": {},
   "outputs": [
    {
     "data": {
      "text/plain": [
       "0.9748878923766816"
      ]
     },
     "execution_count": 14,
     "metadata": {},
     "output_type": "execute_result"
    }
   ],
   "source": [
    "accuracy_score(prediction, target_test)"
   ]
  },
  {
   "cell_type": "code",
   "execution_count": null,
   "metadata": {},
   "outputs": [],
   "source": []
  }
 ],
 "metadata": {
  "kernelspec": {
   "display_name": "Python 3",
   "language": "python",
   "name": "python3"
  },
  "language_info": {
   "codemirror_mode": {
    "name": "ipython",
    "version": 3
   },
   "file_extension": ".py",
   "mimetype": "text/x-python",
   "name": "python",
   "nbconvert_exporter": "python",
   "pygments_lexer": "ipython3",
   "version": "3.5.2"
  }
 },
 "nbformat": 4,
 "nbformat_minor": 2
}
