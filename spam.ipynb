{
 "cells": [
  {
   "cell_type": "code",
   "execution_count": 1,
   "metadata": {},
   "outputs": [
    {
     "name": "stdout",
     "output_type": "stream",
     "text": [
      "[nltk_data] Downloading package stopwords to /home/fiona/nltk_data...\n",
      "[nltk_data]   Package stopwords is already up-to-date!\n",
      "[nltk_data] Downloading package punkt to /home/fiona/nltk_data...\n",
      "[nltk_data]   Package punkt is already up-to-date!\n"
     ]
    }
   ],
   "source": [
    "import pandas as pd\n",
    "import numpy as np\n",
    "import seaborn as sb\n",
    "import matplotlib.pyplot as plt\n",
    "import nltk\n",
    "nltk.download('stopwords')\n",
    "nltk.download('punkt')\n",
    "from nltk.stem import PorterStemmer\n",
    "from collections import Counter\n",
    "from sklearn import model_selection\n",
    "from sklearn.naive_bayes import MultinomialNB\n",
    "from sklearn.feature_extraction import DictVectorizer\n",
    "from sklearn.metrics import accuracy_score, classification_report\n",
    "from itertools import chain"
   ]
  },
  {
   "cell_type": "code",
   "execution_count": 2,
   "metadata": {},
   "outputs": [
    {
     "data": {
      "text/plain": [
       "ham      4827\n",
       "spam      747\n",
       "label       1\n",
       "Name: label, dtype: int64"
      ]
     },
     "execution_count": 2,
     "metadata": {},
     "output_type": "execute_result"
    }
   ],
   "source": [
    "data = []\n",
    "with open('SmsCollection.csv','r') as file:\n",
    "    for line in file:\n",
    "        label, text = line.split(';', 1)\n",
    "        data.append({'label' : label, 'text': text})\n",
    "\n",
    "df = pd.DataFrame(data)\n",
    "df.label.value_counts()"
   ]
  },
  {
   "cell_type": "code",
   "execution_count": 3,
   "metadata": {},
   "outputs": [],
   "source": [
    "df = df[df.label != 'label']\n",
    "df.label.value_counts()\n",
    "df_spam = pd.DataFrame(df[df.label == 'spam'])\n",
    "df_ham = pd.DataFrame(df[df.label == 'ham'])\n",
    "df.label = df.label.map({'ham':0, 'spam':1})"
   ]
  },
  {
   "cell_type": "code",
   "execution_count": 4,
   "metadata": {},
   "outputs": [],
   "source": [
    "def preprocess(text):\n",
    "    text = text.lower()\n",
    "    tokens = nltk.word_tokenize(text)\n",
    "    tokens = [t for t in tokens if len(t)>1]\n",
    "    stop_word_list = nltk.corpus.stopwords.words('english')\n",
    "    tokens = [t for t in tokens if t not in stop_word_list]\n",
    "    stemmer = PorterStemmer()\n",
    "    tokens = [stemmer.stem(t) for t in tokens]\n",
    "    return tokens\n",
    "    \n",
    "spam_words = []\n",
    "for text in df_spam.text:\n",
    "    spam_words.extend(preprocess(text))\n",
    "    \n",
    "ham_words = []\n",
    "for text in df_ham.text:\n",
    "    ham_words.extend(preprocess(text))\n",
    "\n",
    "all_word_count_dicts = []\n",
    "for text in df.text:\n",
    "    all_word_count_dicts.append(Counter(preprocess(text)))\n",
    "    \n",
    "all_words = spam_words + ham_words"
   ]
  },
  {
   "cell_type": "code",
   "execution_count": 5,
   "metadata": {},
   "outputs": [],
   "source": [
    "word_count_dict = Counter(all_words)\n",
    "sorted(word_count_dict.items(), key=lambda x:x[1], reverse=True)\n",
    "all_tokens = word_count_dict.keys()"
   ]
  },
  {
   "cell_type": "code",
   "execution_count": 6,
   "metadata": {},
   "outputs": [
    {
     "data": {
      "text/plain": [
       "[('call', 365),\n",
       " ('free', 217),\n",
       " ('txt', 169),\n",
       " ('ur', 144),\n",
       " ('text', 139),\n",
       " ('mobil', 135),\n",
       " ('stop', 118),\n",
       " ('claim', 115),\n",
       " ('repli', 112),\n",
       " ('prize', 94)]"
      ]
     },
     "execution_count": 6,
     "metadata": {},
     "output_type": "execute_result"
    }
   ],
   "source": [
    "# top 10 spam words\n",
    "sorted(Counter(spam_words).items(), key=lambda x:x[1], reverse=True)[:10]"
   ]
  },
  {
   "cell_type": "code",
   "execution_count": 7,
   "metadata": {},
   "outputs": [
    {
     "data": {
      "text/plain": [
       "[('...', 1251),\n",
       " (\"'s\", 422),\n",
       " ('go', 417),\n",
       " (\"'m\", 387),\n",
       " ('get', 359),\n",
       " (\"n't\", 349),\n",
       " ('gt', 318),\n",
       " ('lt', 316),\n",
       " ('come', 295),\n",
       " ('call', 290)]"
      ]
     },
     "execution_count": 7,
     "metadata": {},
     "output_type": "execute_result"
    }
   ],
   "source": [
    "# top 10 ham words\n",
    "sorted(Counter(ham_words).items(), key=lambda x:x[1], reverse=True)[:10]"
   ]
  },
  {
   "cell_type": "code",
   "execution_count": 8,
   "metadata": {},
   "outputs": [],
   "source": [
    "dv = DictVectorizer(sparse=True)\n",
    "all_features = dv.fit_transform(all_word_count_dicts)\n",
    "\n",
    "\n",
    "# split dataset into train and test set (80% and 20%)\n",
    "indices = np.arange(df.shape[0])\n",
    "features_train, features_test, target_train, target_test, i_train, i_test = model_selection.train_test_split(all_features, df.label, indices, test_size=0.2, random_state=0, shuffle=True)\n",
    "\n",
    "#features_train = all_features[i_train,:]\n",
    "#features_test = all_features[i_test,:]\n"
   ]
  },
  {
   "cell_type": "code",
   "execution_count": 17,
   "metadata": {},
   "outputs": [
    {
     "name": "stdout",
     "output_type": "stream",
     "text": [
      "training set:  4459 582 0.130522538685804\n",
      "test set:  1115 165 0.14798206278026907\n"
     ]
    }
   ],
   "source": [
    "print('training set: ', len(target_train), sum(target_train), sum(target_train)/len(target_train))\n",
    "print('test set: ', len(target_test), sum(target_test), sum(target_test)/len(target_test))"
   ]
  },
  {
   "cell_type": "code",
   "execution_count": 10,
   "metadata": {},
   "outputs": [
    {
     "data": {
      "text/plain": [
       "GridSearchCV(cv=10, error_score='raise',\n",
       "       estimator=MultinomialNB(alpha=1.0, class_prior=None, fit_prior=True),\n",
       "       fit_params=None, iid=True, n_jobs=1,\n",
       "       param_grid={'alpha': array([0.1, 0.2, 0.3, 0.4, 0.5, 0.6, 0.7, 0.8, 0.9, 1. ])},\n",
       "       pre_dispatch='2*n_jobs', refit=True, return_train_score=True,\n",
       "       scoring='precision', verbose=0)"
      ]
     },
     "execution_count": 10,
     "metadata": {},
     "output_type": "execute_result"
    }
   ],
   "source": [
    "# parameter tuning using grid search and cross validation\n",
    "tuner = model_selection.GridSearchCV(MultinomialNB(), {'alpha' : np.linspace(0.1,1,10)}, scoring='precision', return_train_score=True, cv=10)\n",
    "tuner.fit(features_train, target_train)"
   ]
  },
  {
   "cell_type": "code",
   "execution_count": 11,
   "metadata": {},
   "outputs": [
    {
     "data": {
      "text/plain": [
       "{'mean_fit_time': array([0.01436942, 0.0126523 , 0.00661471, 0.00567594, 0.00530493,\n",
       "        0.00524907, 0.00528431, 0.00525479, 0.00540802, 0.00515437]),\n",
       " 'mean_score_time': array([0.0034375 , 0.00350308, 0.00213473, 0.00151591, 0.00142219,\n",
       "        0.00141232, 0.0014492 , 0.00140638, 0.00141349, 0.00263715]),\n",
       " 'mean_test_score': array([0.88556177, 0.88142192, 0.87941549, 0.88159663, 0.88428555,\n",
       "        0.89389308, 0.89947361, 0.89781943, 0.90028726, 0.90312546]),\n",
       " 'mean_train_score': array([0.97586923, 0.97542858, 0.97500626, 0.97662763, 0.97829863,\n",
       "        0.97979108, 0.97996624, 0.97975262, 0.97972841, 0.98100418]),\n",
       " 'param_alpha': masked_array(data=[0.1, 0.2, 0.30000000000000004, 0.4, 0.5, 0.6,\n",
       "                    0.7000000000000001, 0.8, 0.9, 1.0],\n",
       "              mask=[False, False, False, False, False, False, False, False,\n",
       "                    False, False],\n",
       "        fill_value='?',\n",
       "             dtype=object),\n",
       " 'params': [{'alpha': 0.1},\n",
       "  {'alpha': 0.2},\n",
       "  {'alpha': 0.30000000000000004},\n",
       "  {'alpha': 0.4},\n",
       "  {'alpha': 0.5},\n",
       "  {'alpha': 0.6},\n",
       "  {'alpha': 0.7000000000000001},\n",
       "  {'alpha': 0.8},\n",
       "  {'alpha': 0.9},\n",
       "  {'alpha': 1.0}],\n",
       " 'rank_test_score': array([ 6,  9, 10,  8,  7,  5,  3,  4,  2,  1], dtype=int32),\n",
       " 'split0_test_score': array([0.84848485, 0.85074627, 0.84848485, 0.86153846, 0.86153846,\n",
       "        0.86153846, 0.88888889, 0.88888889, 0.88888889, 0.88888889]),\n",
       " 'split0_train_score': array([0.9772296 , 0.97533207, 0.9752381 , 0.97709924, 0.9789675 ,\n",
       "        0.98269231, 0.98265896, 0.98262548, 0.98262548, 0.98262548]),\n",
       " 'split1_test_score': array([0.921875  , 0.93650794, 0.921875  , 0.93548387, 0.95081967,\n",
       "        0.96666667, 0.96610169, 0.96610169, 0.96610169, 0.96610169]),\n",
       " 'split1_train_score': array([0.97542533, 0.97348485, 0.97164461, 0.9752381 , 0.97709924,\n",
       "        0.9789675 , 0.9789675 , 0.97705545, 0.97696737, 0.98259188]),\n",
       " 'split2_test_score': array([0.91666667, 0.90163934, 0.88709677, 0.9       , 0.90163934,\n",
       "        0.93103448, 0.93103448, 0.93103448, 0.93103448, 0.93103448]),\n",
       " 'split2_train_score': array([0.97003745, 0.97358491, 0.9772296 , 0.97714286, 0.97714286,\n",
       "        0.98087954, 0.98087954, 0.98080614, 0.98076923, 0.98073218]),\n",
       " 'split3_test_score': array([0.93103448, 0.91525424, 0.9137931 , 0.89830508, 0.89830508,\n",
       "        0.89830508, 0.89830508, 0.88333333, 0.88333333, 0.88333333]),\n",
       " 'split3_train_score': array([0.97551789, 0.97180451, 0.96998124, 0.97358491, 0.97912713,\n",
       "        0.97912713, 0.97908745, 0.97537879, 0.97537879, 0.97718631]),\n",
       " 'split4_test_score': array([0.80882353, 0.80882353, 0.82089552, 0.82089552, 0.84615385,\n",
       "        0.84615385, 0.84615385, 0.84615385, 0.859375  , 0.85714286]),\n",
       " 'split4_train_score': array([0.9829222 , 0.98098859, 0.97912713, 0.97908745, 0.97908745,\n",
       "        0.97908745, 0.98282443, 0.98470363, 0.98470363, 0.98651252]),\n",
       " 'split5_test_score': array([0.87096774, 0.87096774, 0.87096774, 0.87096774, 0.87096774,\n",
       "        0.88333333, 0.9122807 , 0.91071429, 0.91071429, 0.92727273]),\n",
       " 'split5_train_score': array([0.9754717 , 0.97363465, 0.97542533, 0.97537879, 0.9772296 ,\n",
       "        0.98095238, 0.9772296 , 0.97714286, 0.97900763, 0.98272553]),\n",
       " 'split6_test_score': array([0.87301587, 0.86153846, 0.84848485, 0.84615385, 0.83076923,\n",
       "        0.87096774, 0.87096774, 0.87096774, 0.87096774, 0.87096774]),\n",
       " 'split6_train_score': array([0.97556391, 0.9754717 , 0.97169811, 0.9772296 , 0.9772296 ,\n",
       "        0.9772296 , 0.97908745, 0.98091603, 0.98091603, 0.98091603]),\n",
       " 'split7_test_score': array([0.875     , 0.875     , 0.88888889, 0.88888889, 0.88888889,\n",
       "        0.88709677, 0.88709677, 0.88709677, 0.88709677, 0.88709677]),\n",
       " 'split7_train_score': array([0.97551789, 0.97542533, 0.97533207, 0.97714286, 0.97714286,\n",
       "        0.97714286, 0.97900763, 0.98084291, 0.98084291, 0.9789272 ]),\n",
       " 'split8_test_score': array([0.86153846, 0.86153846, 0.86153846, 0.86153846, 0.86153846,\n",
       "        0.86153846, 0.86153846, 0.86153846, 0.87301587, 0.88709677]),\n",
       " 'split8_train_score': array([0.97727273, 0.97908745, 0.97900763, 0.97714286, 0.97900763,\n",
       "        0.97900763, 0.9789675 , 0.9789675 , 0.97888676, 0.98076923]),\n",
       " 'split9_test_score': array([0.94827586, 0.93220339, 0.93220339, 0.93220339, 0.93220339,\n",
       "        0.93220339, 0.93220339, 0.93220339, 0.93220339, 0.93220339]),\n",
       " 'split9_train_score': array([0.97373358, 0.9754717 , 0.97537879, 0.9772296 , 0.98095238,\n",
       "        0.98282443, 0.98095238, 0.97908745, 0.97718631, 0.97705545]),\n",
       " 'std_fit_time': array([0.00546855, 0.00345   , 0.00199606, 0.00067424, 0.0001013 ,\n",
       "        0.00015149, 0.00017328, 0.00013223, 0.00064913, 0.00022195]),\n",
       " 'std_score_time': array([2.32993546e-03, 3.76102858e-03, 1.59124158e-03, 1.73404139e-04,\n",
       "        6.26372799e-05, 4.28255851e-05, 1.06743073e-04, 4.26425209e-05,\n",
       "        5.64672850e-05, 3.09071604e-03]),\n",
       " 'std_test_score': array([0.04075402, 0.03784801, 0.03413286, 0.0346377 , 0.03574863,\n",
       "        0.03637309, 0.03469701, 0.03497569, 0.03206366, 0.03230935]),\n",
       " 'std_train_score': array([0.00304681, 0.00260468, 0.00293096, 0.00143328, 0.00125287,\n",
       "        0.00189615, 0.00170805, 0.00265881, 0.00266673, 0.00270321])}"
      ]
     },
     "execution_count": 11,
     "metadata": {},
     "output_type": "execute_result"
    }
   ],
   "source": [
    "tuner.cv_results_"
   ]
  },
  {
   "cell_type": "code",
   "execution_count": 12,
   "metadata": {},
   "outputs": [
    {
     "data": {
      "text/plain": [
       "MultinomialNB(alpha=1.0, class_prior=None, fit_prior=True)"
      ]
     },
     "execution_count": 12,
     "metadata": {},
     "output_type": "execute_result"
    }
   ],
   "source": [
    "clf = MultinomialNB()\n",
    "clf.fit(features_train, target_train)"
   ]
  },
  {
   "cell_type": "code",
   "execution_count": 13,
   "metadata": {},
   "outputs": [
    {
     "name": "stdout",
     "output_type": "stream",
     "text": [
      "             precision    recall  f1-score   support\n",
      "\n",
      "          0       0.99      0.98      0.98       950\n",
      "          1       0.87      0.95      0.91       165\n",
      "\n",
      "avg / total       0.97      0.97      0.97      1115\n",
      "\n"
     ]
    }
   ],
   "source": [
    "prediction = clf.predict(features_test)\n",
    "print(classification_report(target_test, prediction))"
   ]
  },
  {
   "cell_type": "code",
   "execution_count": null,
   "metadata": {},
   "outputs": [],
   "source": []
  }
 ],
 "metadata": {
  "kernelspec": {
   "display_name": "Python 3",
   "language": "python",
   "name": "python3"
  },
  "language_info": {
   "codemirror_mode": {
    "name": "ipython",
    "version": 3
   },
   "file_extension": ".py",
   "mimetype": "text/x-python",
   "name": "python",
   "nbconvert_exporter": "python",
   "pygments_lexer": "ipython3",
   "version": "3.5.2"
  }
 },
 "nbformat": 4,
 "nbformat_minor": 2
}
