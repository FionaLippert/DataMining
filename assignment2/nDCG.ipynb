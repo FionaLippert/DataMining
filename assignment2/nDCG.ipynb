{
 "cells": [
  {
   "cell_type": "code",
   "execution_count": 1,
   "metadata": {},
   "outputs": [],
   "source": [
    "import numpy as np\n",
    "import pandas as pd"
   ]
  },
  {
   "cell_type": "code",
   "execution_count": 2,
   "metadata": {},
   "outputs": [],
   "source": [
    "pred = pd.DataFrame()\n",
    "pred['srch_id'] = [1,1,1,1,1,2,2,2,3,3,3,3,3,3,3]\n",
    "pred['prop_id'] = [1,2,3,5,4,1,2,3,7,6,5,4,3,2,1]\n",
    "\n",
    "truth = pd.DataFrame()\n",
    "truth['srch_id'] = [1,1,1,1,1,2,2,2,3,3,3,3,3,3,3]\n",
    "truth['prop_id'] = [1,2,3,4,5,1,2,3,1,2,3,4,5,6,7]\n",
    "truth['booking_bool'] = [1,0,0,0,0,1,0,0,1,0,0,0,0,0,0]\n",
    "truth['click_bool'] = [1,1,1,1,0,1,1,0,1,1,1,0,0,0,0]"
   ]
  },
  {
   "cell_type": "code",
   "execution_count": 58,
   "metadata": {},
   "outputs": [],
   "source": [
    "def ideal_ranking(ground_truth):\n",
    "    ideal_ranking = ground_truth.sort_values(by=['booking_bool', 'click_bool'], ascending=False)\n",
    "    return ideal_ranking.reset_index(drop=True)\n",
    "    \n",
    "def DCG(prediction, ground_truth):\n",
    "    dcg = []\n",
    "    for row in prediction.itertuples():\n",
    "        prop_id = getattr(row, 'prop_id')\n",
    "        rank = getattr(row, 'Index') + 1\n",
    "        booked = ground_truth.set_index('prop_id').at[(prop_id,'booking_bool')]\n",
    "        clicked = ground_truth.set_index('prop_id').at[(prop_id,'click_bool')]\n",
    "        score = 5 if booked else 1 if clicked else 0\n",
    "        dcg.append((2**score - 1)/(np.log2(rank + 1)))\n",
    "    return sum(dcg)\n",
    "\n",
    "def nDCG(prediction, ground_truth):\n",
    "    prediction.reset_index(drop=True, inplace=True)\n",
    "    dcg = DCG(prediction, ground_truth)\n",
    "    idcg = DCG(ideal_ranking(ground_truth), ground_truth)\n",
    "    return(dcg/idcg)\n",
    "\n",
    "def overall_nDCG(prediction, ground_truth):\n",
    "    ids = prediction.srch_id.unique()\n",
    "    all_nDCG = [nDCG(prediction[prediction.srch_id==i], ground_truth[ground_truth.srch_id==i]) for i in ids]\n",
    "    print(all_nDCG)\n",
    "    print(np.mean(all_nDCG))"
   ]
  },
  {
   "cell_type": "code",
   "execution_count": 59,
   "metadata": {},
   "outputs": [
    {
     "name": "stdout",
     "output_type": "stream",
     "text": [
      "[0.9986541281035272, 1.0, 0.3447268228036483]\n",
      "0.7811269836357252\n"
     ]
    }
   ],
   "source": [
    "overall_nDCG(pred, truth)"
   ]
  },
  {
   "cell_type": "code",
   "execution_count": null,
   "metadata": {},
   "outputs": [],
   "source": []
  }
 ],
 "metadata": {
  "kernelspec": {
   "display_name": "Python 3",
   "language": "python",
   "name": "python3"
  },
  "language_info": {
   "codemirror_mode": {
    "name": "ipython",
    "version": 3
   },
   "file_extension": ".py",
   "mimetype": "text/x-python",
   "name": "python",
   "nbconvert_exporter": "python",
   "pygments_lexer": "ipython3",
   "version": "3.6.0"
  }
 },
 "nbformat": 4,
 "nbformat_minor": 2
}
