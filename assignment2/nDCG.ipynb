{
 "cells": [
  {
   "cell_type": "code",
   "execution_count": 3,
   "metadata": {},
   "outputs": [],
   "source": [
    "import numpy as np\n",
    "import pandas as pd"
   ]
  },
  {
   "cell_type": "code",
   "execution_count": 94,
   "metadata": {},
   "outputs": [],
   "source": [
    "pred = pd.DataFrame()\n",
    "pred['srch_id'] = [1,1,1,1,1,2,2,2,3,3,3,3,3,3,3]\n",
    "pred['prop_id'] = [1,2,3,5,4,1,2,3,7,6,5,4,3,2,1]\n",
    "\n",
    "truth = pd.DataFrame()\n",
    "truth['srch_id'] = [1,1,1,1,1,2,2,2,3,3,3,3,3,3,3]\n",
    "truth['prop_id'] = [1,2,3,4,5,1,2,3,1,2,3,4,5,6,7]\n",
    "truth['booking_bool'] = [1,0,0,0,0,1,0,0,1,0,0,0,0,0,0]\n",
    "truth['click_bool'] = [1,1,1,1,0,1,1,0,1,1,1,0,0,0,0]"
   ]
  },
  {
   "cell_type": "code",
   "execution_count": 96,
   "metadata": {},
   "outputs": [],
   "source": [
    "def get_score(row, booking_dict, click_dict):\n",
    "    prop_id = row['prop_id']\n",
    "    if booking_dict[prop_id]:\n",
    "        return 5\n",
    "    elif click_dict[prop_id]:\n",
    "        return 1\n",
    "    else:\n",
    "        return 0\n",
    "    \n",
    "def calculate_DCG(row, booking_dict, click_dict):\n",
    "    return (2**get_score(row, booking_dict, click_dict) - 1)/(np.log2(row.name + 2))\n",
    "\n",
    "def ideal_ranking(ground_truth):\n",
    "    ideal_ranking = ground_truth.sort_values(by=['booking_bool', 'click_bool'], ascending=False)\n",
    "    return ideal_ranking.reset_index(drop=True)\n",
    "    \n",
    "def nDCG(prediction, ground_truth):\n",
    "    prediction.reset_index(drop=True, inplace=True)\n",
    "    booking_dict = dict(zip(ground_truth.prop_id.values, ground_truth.booking_bool.values))\n",
    "    click_dict = dict(zip(ground_truth.prop_id.values, ground_truth.click_bool.values))\n",
    "    dcg = sum(prediction.apply(calculate_DCG, args=(booking_dict, click_dict), axis=1))\n",
    "    idcg = sum(ideal_ranking(ground_truth).apply(calculate_DCG, args=(booking_dict, click_dict), axis=1))\n",
    "    return (dcg, idcg, dcg/idcg)"
   ]
  },
  {
   "cell_type": "code",
   "execution_count": 97,
   "metadata": {},
   "outputs": [
    {
     "name": "stdout",
     "output_type": "stream",
     "text": [
      "(32.517782560806, 32.56160631164485, 0.9986541281035272)\n",
      "(31.630929753571458, 31.630929753571458, 1.0)\n",
      "(11.076393327675898, 32.13092975357146, 0.3447268228036483)\n"
     ]
    }
   ],
   "source": [
    "for srch_id in range(1,4):\n",
    "    print(nDCG(pred[pred.srch_id==srch_id], truth[truth.srch_id==srch_id]))"
   ]
  },
  {
   "cell_type": "code",
   "execution_count": null,
   "metadata": {},
   "outputs": [],
   "source": []
  }
 ],
 "metadata": {
  "kernelspec": {
   "display_name": "Python 3",
   "language": "python",
   "name": "python3"
  },
  "language_info": {
   "codemirror_mode": {
    "name": "ipython",
    "version": 3
   },
   "file_extension": ".py",
   "mimetype": "text/x-python",
   "name": "python",
   "nbconvert_exporter": "python",
   "pygments_lexer": "ipython3",
   "version": "3.6.0"
  }
 },
 "nbformat": 4,
 "nbformat_minor": 2
}
