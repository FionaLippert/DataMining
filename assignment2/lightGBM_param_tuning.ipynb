{
 "cells": [
  {
   "cell_type": "code",
   "execution_count": 1,
   "metadata": {},
   "outputs": [],
   "source": [
    "import pandas as pd\n",
    "import numpy as np\n",
    "import matplotlib.pyplot as plt\n",
    "import seaborn as sns\n",
    "import lightgbm as lgb\n",
    "import warnings\n",
    "from ndcg_calc import ndcg_calc\n",
    "warnings.filterwarnings('ignore')"
   ]
  },
  {
   "cell_type": "code",
   "execution_count": 2,
   "metadata": {},
   "outputs": [],
   "source": [
    "train_orig = pd.read_csv('processed_data/train_clean.csv')"
   ]
  },
  {
   "cell_type": "code",
   "execution_count": 3,
   "metadata": {},
   "outputs": [],
   "source": [
    "# allocate a portion of the train set that's never used for training\n",
    "#test = train_orig[len(train_orig)*2//3:]\n",
    "test = train_orig[:len(train_orig)//2-1]\n",
    "test = test.drop(['gross_bookings_usd','date_time','position','prop_desirability','booking_or_click_bool',\n",
    "                 'prop_desirability_incomplete'], axis=1)\n",
    "\n",
    "# set which columns are to be dropped from the initial dataset\n",
    "cols_to_drop = ['booking_bool','click_bool','gross_bookings_usd','date_time','position','prop_desirability',\n",
    "               'booking_or_click_bool','prop_desirability_incomplete']\n",
    "\n",
    "# other possible column combinations to drop\n",
    "#cols_to_drop = ['booking_bool','click_bool','gross_bookings_usd','date_time','position']\n",
    "#cols_to_drop = ['booking_bool','click_bool','gross_bookings_usd','date_time']"
   ]
  },
  {
   "cell_type": "code",
   "execution_count": 4,
   "metadata": {},
   "outputs": [],
   "source": [
    "# drop the columns and and make the training set\n",
    "train = train_orig.drop(cols_to_drop, axis=1)[len(train_orig)//2-1:]\n",
    "\n",
    "# free memory\n",
    "train_orig = None\n",
    "# fill nans with -999, skip this if you want to do something else with missing values\n",
    "train.fillna(-999, inplace=True)"
   ]
  },
  {
   "cell_type": "code",
   "execution_count": 6,
   "metadata": {},
   "outputs": [],
   "source": [
    "train.sort_values(by='srch_id', inplace=True)\n",
    "labels = train.booked_clicked_combined\n",
    "train.drop(['booked_clicked_combined'], inplace=True, axis=1)"
   ]
  },
  {
   "cell_type": "code",
   "execution_count": 7,
   "metadata": {},
   "outputs": [],
   "source": [
    "# function to break srch_id's into folds \n",
    "def get_fold_ids(unique_srch_ids, num_folds=5):\n",
    "    fraction = (len(unique_srch_ids)//num_folds)/len(unique_srch_ids)\n",
    "    final_fold_ids = dict()\n",
    "    for i in range(num_folds):\n",
    "        num_samples = int(fraction*len(unique_srch_ids))\n",
    "        train_sample_ids = np.random.choice(unique_srch_ids, num_samples, replace=False)\n",
    "        unique_srch_ids = list(set(unique_srch_ids)-set(train_sample_ids))\n",
    "        set_key = 'id_set' + str(i)\n",
    "        final_fold_ids[set_key] = train_sample_ids\n",
    "    return final_fold_ids"
   ]
  },
  {
   "cell_type": "code",
   "execution_count": 24,
   "metadata": {},
   "outputs": [],
   "source": [
    "# divide ids into n subsets of equal size\n",
    "num_folds = 3\n",
    "fold_ids = get_fold_ids(train.srch_id.unique(),num_folds)\n",
    "keys = list(fold_ids.keys())"
   ]
  },
  {
   "cell_type": "code",
   "execution_count": 38,
   "metadata": {},
   "outputs": [
    {
     "ename": "KeyboardInterrupt",
     "evalue": "",
     "output_type": "error",
     "traceback": [
      "\u001b[0;31m---------------------------------------------------------------------------\u001b[0m",
      "\u001b[0;31mKeyboardInterrupt\u001b[0m                         Traceback (most recent call last)",
      "\u001b[0;32m<ipython-input-38-befbf0dcbce7>\u001b[0m in \u001b[0;36m<module>\u001b[0;34m()\u001b[0m\n\u001b[1;32m     51\u001b[0m         \u001b[0;31m# train the lambdarank model with given parameters\u001b[0m\u001b[0;34m\u001b[0m\u001b[0;34m\u001b[0m\u001b[0m\n\u001b[1;32m     52\u001b[0m         lgbm_model = lgb.train(params, train_set = lgb_train, valid_sets = lgb_val,\n\u001b[0;32m---> 53\u001b[0;31m                               verbose_eval=100)\n\u001b[0m\u001b[1;32m     54\u001b[0m         \u001b[0mmodels\u001b[0m\u001b[0;34m.\u001b[0m\u001b[0mappend\u001b[0m\u001b[0;34m(\u001b[0m\u001b[0mlgbm_model\u001b[0m\u001b[0;34m)\u001b[0m\u001b[0;34m\u001b[0m\u001b[0m\n\u001b[1;32m     55\u001b[0m         \u001b[0mscores\u001b[0m\u001b[0;34m[\u001b[0m\u001b[0mi\u001b[0m\u001b[0;34m,\u001b[0m\u001b[0mk\u001b[0m\u001b[0;34m]\u001b[0m \u001b[0;34m=\u001b[0m \u001b[0mlgbm_model\u001b[0m\u001b[0;34m.\u001b[0m\u001b[0mbest_score\u001b[0m\u001b[0;34m[\u001b[0m\u001b[0;34m'valid_0'\u001b[0m\u001b[0;34m]\u001b[0m\u001b[0;34m[\u001b[0m\u001b[0;34m'ndcg@38'\u001b[0m\u001b[0;34m]\u001b[0m\u001b[0;34m\u001b[0m\u001b[0m\n",
      "\u001b[0;32m~/anaconda3/lib/python3.6/site-packages/lightgbm/engine.py\u001b[0m in \u001b[0;36mtrain\u001b[0;34m(params, train_set, num_boost_round, valid_sets, valid_names, fobj, feval, init_model, feature_name, categorical_feature, early_stopping_rounds, evals_result, verbose_eval, learning_rates, keep_training_booster, callbacks)\u001b[0m\n\u001b[1;32m    199\u001b[0m                                     evaluation_result_list=None))\n\u001b[1;32m    200\u001b[0m \u001b[0;34m\u001b[0m\u001b[0m\n\u001b[0;32m--> 201\u001b[0;31m         \u001b[0mbooster\u001b[0m\u001b[0;34m.\u001b[0m\u001b[0mupdate\u001b[0m\u001b[0;34m(\u001b[0m\u001b[0mfobj\u001b[0m\u001b[0;34m=\u001b[0m\u001b[0mfobj\u001b[0m\u001b[0;34m)\u001b[0m\u001b[0;34m\u001b[0m\u001b[0m\n\u001b[0m\u001b[1;32m    202\u001b[0m \u001b[0;34m\u001b[0m\u001b[0m\n\u001b[1;32m    203\u001b[0m         \u001b[0mevaluation_result_list\u001b[0m \u001b[0;34m=\u001b[0m \u001b[0;34m[\u001b[0m\u001b[0;34m]\u001b[0m\u001b[0;34m\u001b[0m\u001b[0m\n",
      "\u001b[0;32m~/anaconda3/lib/python3.6/site-packages/lightgbm/basic.py\u001b[0m in \u001b[0;36mupdate\u001b[0;34m(self, train_set, fobj)\u001b[0m\n\u001b[1;32m   1519\u001b[0m             _safe_call(_LIB.LGBM_BoosterUpdateOneIter(\n\u001b[1;32m   1520\u001b[0m                 \u001b[0mself\u001b[0m\u001b[0;34m.\u001b[0m\u001b[0mhandle\u001b[0m\u001b[0;34m,\u001b[0m\u001b[0;34m\u001b[0m\u001b[0m\n\u001b[0;32m-> 1521\u001b[0;31m                 ctypes.byref(is_finished)))\n\u001b[0m\u001b[1;32m   1522\u001b[0m             \u001b[0mself\u001b[0m\u001b[0;34m.\u001b[0m\u001b[0m__is_predicted_cur_iter\u001b[0m \u001b[0;34m=\u001b[0m \u001b[0;34m[\u001b[0m\u001b[0;32mFalse\u001b[0m \u001b[0;32mfor\u001b[0m \u001b[0m_\u001b[0m \u001b[0;32min\u001b[0m \u001b[0mrange_\u001b[0m\u001b[0;34m(\u001b[0m\u001b[0mself\u001b[0m\u001b[0;34m.\u001b[0m\u001b[0m__num_dataset\u001b[0m\u001b[0;34m)\u001b[0m\u001b[0;34m]\u001b[0m\u001b[0;34m\u001b[0m\u001b[0m\n\u001b[1;32m   1523\u001b[0m             \u001b[0;32mreturn\u001b[0m \u001b[0mis_finished\u001b[0m\u001b[0;34m.\u001b[0m\u001b[0mvalue\u001b[0m \u001b[0;34m==\u001b[0m \u001b[0;36m1\u001b[0m\u001b[0;34m\u001b[0m\u001b[0m\n",
      "\u001b[0;31mKeyboardInterrupt\u001b[0m: "
     ]
    }
   ],
   "source": [
    "models = []\n",
    "\n",
    "\n",
    "parameter_range = [100,300,500]\n",
    "\n",
    "scores = np.zeros((len(parameter_range),num_folds))\n",
    "for i,param in enumerate(parameter_range):\n",
    "    for k in range(num_folds):\n",
    "\n",
    "        # divide the srch_ids into training and validation set\n",
    "        id_valid  = k # validation set index\n",
    "        valid_set_ids = fold_ids[keys[id_valid]] # get validation set ids\n",
    "        \n",
    "        if k == num_folds-1:\n",
    "            train_set_ids = fold_ids[keys[0]]\n",
    "        else:\n",
    "            train_set_ids = fold_ids[keys[id_valid+1]]\n",
    "\n",
    "        #get subsets of the full train set for training and validation sets\n",
    "        valid_set = train[train.srch_id.isin(valid_set_ids)]\n",
    "        train_set = train[~train.srch_id.isin(valid_set_ids)]\n",
    "\n",
    "        #prepare the label \n",
    "        train_label = labels[train_set.index]\n",
    "        valid_label = labels[valid_set.index]\n",
    "\n",
    "        #get group data\n",
    "        train_group = train_set.groupby(['srch_id']).size().values\n",
    "        valid_group = valid_set.groupby(['srch_id']).size().values\n",
    "\n",
    "        # put into lightGBM format\n",
    "        lgb_train = lgb.Dataset(train_set,label=train_label, group=train_group)\n",
    "        lgb_val = lgb.Dataset(valid_set, label=valid_label, group=valid_group)\n",
    "\n",
    "        params = {\n",
    "            'task': 'train',\n",
    "            'boosting_type': 'gbdt',\n",
    "            'objective': 'lambdarank',\n",
    "            'metric': 'ndcg',\n",
    "            'label_gain' : {0,1,5},\n",
    "            'ndcg_at': 38,\n",
    "            'num_leaves':10,\n",
    "            'learning_rate': 0.1,\n",
    "            'feature_fraction': 0.9,\n",
    "            'bagging_fraction': 0.8,\n",
    "            'bagging_freq': 1,\n",
    "            'verbose': 0,\n",
    "        }\n",
    "        params['num_iterations'] = param\n",
    "\n",
    "        # train the lambdarank model with given parameters\n",
    "        lgbm_model = lgb.train(params, train_set = lgb_train, valid_sets = lgb_val,\n",
    "                              verbose_eval=100)\n",
    "        models.append(lgbm_model)\n",
    "        scores[i,k] = lgbm_model.best_score['valid_0']['ndcg@38']\n",
    "\n",
    "\n",
    "#print('Average ndcg@38 score: {0:.8f}, std: {1:.8f}'.format(np.mean(scores),np.std(scores)))"
   ]
  },
  {
   "cell_type": "code",
   "execution_count": 26,
   "metadata": {},
   "outputs": [
    {
     "name": "stdout",
     "output_type": "stream",
     "text": [
      "[[ 0.49113078  0.48876136  0.49369258]\n",
      " [ 0.49947732  0.49833608  0.5037256 ]\n",
      " [ 0.50198132  0.50092592  0.50685491]]\n"
     ]
    }
   ],
   "source": [
    "print(scores)"
   ]
  },
  {
   "cell_type": "code",
   "execution_count": 27,
   "metadata": {},
   "outputs": [
    {
     "name": "stdout",
     "output_type": "stream",
     "text": [
      "[ 0.49119491  0.500513    0.50325405]\n"
     ]
    }
   ],
   "source": [
    "\n",
    "mean_scores = np.mean(scores, axis=1)\n",
    "print(mean_scores)"
   ]
  },
  {
   "cell_type": "code",
   "execution_count": 28,
   "metadata": {},
   "outputs": [
    {
     "data": {
      "image/png": "[encoded data removed]",
      "text/plain": [
       "<Figure size 432x288 with 1 Axes>"
      ]
     },
     "metadata": {},
     "output_type": "display_data"
    }
   ],
   "source": [
    "x_str = 'Num_iterations'\n",
    "plt.figure()\n",
    "plt.plot(parameter_range, mean_scores,marker='*',linestyle='--')\n",
    "plt.xlabel(x_str)\n",
    "plt.ylabel('nDCG')\n",
    "plt.title('hyperparameter tuning for lambdarank')\n",
    "plt.grid(color='gray',alpha=0.3, linestyle='--')\n",
    "#plt.xticks(np.arange(min(parameter_range), max(parameter_range)+100))\n",
    "#plt.savefig('titanic_LRtuning.pdf',bbox_inches='tight')"
   ]
  },
  {
   "cell_type": "code",
   "execution_count": 27,
   "metadata": {},
   "outputs": [],
   "source": [
    "#test = test.fillna(-999)"
   ]
  },
  {
   "cell_type": "code",
   "execution_count": 29,
   "metadata": {},
   "outputs": [
    {
     "name": "stdout",
     "output_type": "stream",
     "text": [
      "Model 0 score is 0.43203613\n",
      "Model 1 score is 0.43014027\n",
      "Model 2 score is 0.43436309\n",
      "Model 3 score is 0.43203961\n",
      "Model 4 score is 0.43250127\n",
      "Model 5 score is 0.42567046\n",
      "Model 6 score is 0.41190959\n",
      "Model 7 score is 0.41944116\n",
      "Model 8 score is 0.39948539\n"
     ]
    }
   ],
   "source": [
    "test_scores = np.zeros(len(models))\n",
    "for i,model in enumerate(models):\n",
    "    ypred = model.predict(test)\n",
    "    test_score = ndcg_calc(test[['srch_id','click_bool','booking_bool']], ypred)\n",
    "    test_scores[i] = test_score\n",
    "    print('Model {0:d} score is {1:.8f}'.format(i, test_score))"
   ]
  },
  {
   "cell_type": "code",
   "execution_count": 30,
   "metadata": {},
   "outputs": [],
   "source": [
    "test_scores = test_scores.reshape((len(parameter_range),num_folds))\n",
    "test_scores"
   ]
  },
  {
   "cell_type": "code",
   "execution_count": 31,
   "metadata": {},
   "outputs": [],
   "source": [
    "mean_test_scores = np.mean(test_scores, axis=1)\n",
    "mean_test_scores"
   ]
  },
  {
   "cell_type": "code",
   "execution_count": 33,
   "metadata": {},
   "outputs": [
    {
     "data": {
      "image/png": "[encoded data removed]",
      "text/plain": [
       "<Figure size 432x288 with 1 Axes>"
      ]
     },
     "metadata": {},
     "output_type": "display_data"
    }
   ],
   "source": [
    "#mean_test_scores = np.mean(test_scores, axis=1)\n",
    "plt.figure()\n",
    "plt.plot(parameter_range, mean_test_scores, marker='*', linestyle='--')\n",
    "plt.xlabel(x_str)\n",
    "plt.ylabel('nDCG')\n",
    "plt.title('Num_iterations vs. validation set scores')\n",
    "plt.grid(color='gray',alpha=0.3, linestyle='--')\n",
    "#plt.xticks(np.arange(min(parameter_range), max(parameter_range)+100,))\n",
    "plt.savefig(\"output/num_iterations_vs_ndcg_small.pdf\", bbox_inches='tight')"
   ]
  },
  {
   "cell_type": "code",
   "execution_count": 36,
   "metadata": {},
   "outputs": [
    {
     "data": {
      "text/plain": [
       "[('prop_log_historical_price', 439),\n",
       " ('price_usd_norm_srch_id', 439),\n",
       " ('price_usd', 391),\n",
       " ('prop_location_score2_norm_srch_destination_id', 385),\n",
       " ('prop_location_score2_norm_srch_id', 266),\n",
       " ('prop_location_score1', 249),\n",
       " ('prop_starrating', 218),\n",
       " ('srch_query_affinity_score', 214),\n",
       " ('prop_location_score1_norm_srch_id', 153),\n",
       " ('prop_review_score_norm_srch_id', 139),\n",
       " ('prop_location_score2', 132),\n",
       " ('prop_review_score', 115),\n",
       " ('prop_review_score_norm_srch_destination_id', 107),\n",
       " ('star_diff_filled', 106),\n",
       " ('price_usd_norm_srch_destination_id', 104),\n",
       " ('random_bool', 102),\n",
       " ('prop_location_score1_norm_srch_destination_id', 95),\n",
       " ('price_diff_filled', 93),\n",
       " ('orig_destination_distance', 87),\n",
       " ('price_diff', 79),\n",
       " ('prop_id', 78),\n",
       " ('prop_country_id', 77),\n",
       " ('promotion_flag', 75),\n",
       " ('srch_booking_window', 54),\n",
       " ('prop_brand_bool', 51),\n",
       " ('visitor_hist_starrating_filled', 25),\n",
       " ('visitor_location_country_id', 24),\n",
       " ('visitor_hist_adr_usd_filled', 22),\n",
       " ('srch_length_of_stay', 21),\n",
       " ('srch_children_count', 21),\n",
       " ('star_diff', 21),\n",
       " ('price_diff_bool', 18),\n",
       " ('srch_destination_id', 16),\n",
       " ('srch_query_affinity_bins', 15),\n",
       " ('visitor_hist_adr_usd', 14),\n",
       " ('site_id', 12),\n",
       " ('srch_adults_count', 11),\n",
       " ('visitor_hist_starrating', 9),\n",
       " ('month', 9),\n",
       " ('srch_id', 5),\n",
       " ('willingness_to_pay', 4),\n",
       " ('srch_saturday_night_bool', 3),\n",
       " ('srch_room_count', 1),\n",
       " ('price_diff_bins', 1),\n",
       " ('star_diff_bool', 0),\n",
       " ('star_diff_bins', 0)]"
      ]
     },
     "execution_count": 36,
     "metadata": {},
     "output_type": "execute_result"
    }
   ],
   "source": [
    "feature_importances = dict(zip(models[-1].feature_name(), models[-1].feature_importance()))\n",
    "feature_importances = sorted(feature_importances.items(), key=lambda x: x[1], reverse=True)\n",
    "feature_importances"
   ]
  },
  {
   "cell_type": "code",
   "execution_count": null,
   "metadata": {},
   "outputs": [],
   "source": []
  }
 ],
 "metadata": {
  "kernelspec": {
   "display_name": "Python 3",
   "language": "python",
   "name": "python3"
  },
  "language_info": {
   "codemirror_mode": {
    "name": "ipython",
    "version": 3
   },
   "file_extension": ".py",
   "mimetype": "text/x-python",
   "name": "python",
   "nbconvert_exporter": "python",
   "pygments_lexer": "ipython3",
   "version": "3.6.5"
  }
 },
 "nbformat": 4,
 "nbformat_minor": 2
}
