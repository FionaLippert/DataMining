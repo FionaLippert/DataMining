{
 "cells": [
  {
   "cell_type": "code",
   "execution_count": 3,
   "metadata": {},
   "outputs": [],
   "source": [
    "import pandas as pd\n",
    "import numpy as np\n",
    "import seaborn as sns\n",
    "import matplotlib.pyplot as plt\n",
    "import scipy"
   ]
  },
  {
   "cell_type": "code",
   "execution_count": 7,
   "metadata": {},
   "outputs": [
    {
     "data": {
      "text/plain": [
       "Text(0.5,1,'RF feature selection')"
      ]
     },
     "execution_count": 7,
     "metadata": {},
     "output_type": "execute_result"
    },
    {
     "data": {
      "image/png": "[encoded data removed]",
      "text/plain": [
       "<Figure size 432x288 with 1 Axes>"
      ]
     },
     "metadata": {},
     "output_type": "display_data"
    }
   ],
   "source": [
    "fs_results = pd.DataFrame()\n",
    "fs_results['nDCG'] = [0.44886, 0.45321, 0.45317, 0.45419, 0.45167, 0.45129, 0.45526, 0.45660, 0.45130, 0.45356, 0.44957, 0.45697, 0.45240, 0.45599, 0.45380, 0.45238, 0.45531, 0.45495, 0.45268, 0.45555, 0.45659, 0.45670, 0.45995, 0.46076, 0.45979, 0.45906, 0.45911, 0.46044, 0.45696, 0.46085, 0.45324, 0.45244, 0.45418, 0.45601, 0.45661, 0.45359, 0.45879, 0.45328, 0.45222, 0.45357, 0.45037, 0.45317, 0.45221, 0.45272, 0.45212, 0.45094, 0.45402, 0.45229, 0.45058, 0.45555, 0.45142, 0.45538, 0.45769, 0.45947, 0.45324, 0.45628, 0.45925, 0.45707, 0.45439, 0.45741, 0.45339, 0.45746, 0.45762, 0.45772, 0.45667, 0.45319, 0.45699, 0.45877, 0.45996, 0.45630, 0.45154, 0.45313,0.45708, 0.45642,0.45867, 0.45158, 0.45391, 0.45745, 0.45143, 0.45671 ,0.45583, 0.45646, 0.45711, 0.45976, 0.46263, 0.45907, 0.46301, 0.45952, 0.45771, 0.46156, 0.45951, 0.45899, 0.45954, 0.46349, 0.46053, 0.45703, 0.45992, 0.46046, 0.46010, 0.46358, 0.46044, 0.45956, 0.46227, 0.46212, 0.46173, 0.46133, 0.46178, 0.46476, 0.45887, 0.46052, 0.45369, 0.45823, 0.45602, 0.45641, 0.45950, 0.45615, 0.46155, 0.46318, 0.45620, 0.45751]\n",
    "fs_results['threshold'] = ['all','all','all','all','all','all','all','all','all','all','0.01','0.01','0.01','0.01','0.01','0.01','0.01','0.01','0.01','0.01','0.02','0.02','0.02','0.02','0.02','0.02','0.02','0.02','0.02','0.02','0.03','0.03','0.03','0.03','0.03','0.03','0.03','0.03','0.03','0.03','all','all','all','all','all','all','all','all','all','all','0.01','0.01','0.01','0.01','0.01','0.01','0.01','0.01','0.01','0.01','0.02','0.02','0.02','0.02','0.02','0.02','0.02','0.02','0.02','0.02','0.03','0.03','0.03','0.03','0.03','0.03','0.03','0.03','0.03','0.03','all','all','all','all','all','all','all','all','all','all','0.01','0.01','0.01','0.01','0.01','0.01','0.01','0.01','0.01','0.01','0.02','0.02','0.02','0.02','0.02','0.02','0.02','0.02','0.02','0.02','0.03','0.03','0.03','0.03','0.03','0.03','0.03','0.03','0.03','0.03']\n",
    "fs_results['target'] = ['booked','booked','booked','booked','booked','booked','booked','booked','booked','booked','booked','booked','booked','booked','booked','booked','booked','booked','booked','booked','booked','booked','booked','booked','booked','booked','booked','booked','booked','booked','booked','booked','booked','booked','booked','booked','booked','booked','booked','booked','booked_clicked_combined','booked_clicked_combined','booked_clicked_combined','booked_clicked_combined','booked_clicked_combined','booked_clicked_combined','booked_clicked_combined','booked_clicked_combined','booked_clicked_combined','booked_clicked_combined','booked_clicked_combined','booked_clicked_combined','booked_clicked_combined','booked_clicked_combined','booked_clicked_combined','booked_clicked_combined','booked_clicked_combined','booked_clicked_combined','booked_clicked_combined','booked_clicked_combined','booked_clicked_combined','booked_clicked_combined','booked_clicked_combined','booked_clicked_combined','booked_clicked_combined','booked_clicked_combined','booked_clicked_combined','booked_clicked_combined','booked_clicked_combined','booked_clicked_combined','booked_clicked_combined','booked_clicked_combined','booked_clicked_combined','booked_clicked_combined','booked_clicked_combined','booked_clicked_combined','booked_clicked_combined','booked_clicked_combined','booked_clicked_combined','booked_clicked_combined','clicked','clicked','clicked','clicked','clicked','clicked','clicked','clicked','clicked','clicked','clicked','clicked','clicked','clicked','clicked','clicked','clicked','clicked','clicked','clicked','clicked','clicked','clicked','clicked','clicked','clicked','clicked','clicked','clicked','clicked','clicked','clicked','clicked','clicked','clicked','clicked','clicked','clicked','clicked','clicked']\n",
    "sns.barplot(x=\"threshold\", y=\"nDCG\", hue=\"target\", data=fs_results)\n",
    "plt.title(\"RF feature selection\")"
   ]
  },
  {
   "cell_type": "code",
   "execution_count": 8,
   "metadata": {},
   "outputs": [
    {
     "data": {
      "text/html": [
       "<div>\n",
       "<style scoped>\n",
       "    .dataframe tbody tr th:only-of-type {\n",
       "        vertical-align: middle;\n",
       "    }\n",
       "\n",
       "    .dataframe tbody tr th {\n",
       "        vertical-align: top;\n",
       "    }\n",
       "\n",
       "    .dataframe thead th {\n",
       "        text-align: right;\n",
       "    }\n",
       "</style>\n",
       "<table border=\"1\" class=\"dataframe\">\n",
       "  <thead>\n",
       "    <tr style=\"text-align: right;\">\n",
       "      <th></th>\n",
       "      <th>nDCG</th>\n",
       "    </tr>\n",
       "    <tr>\n",
       "      <th>threshold</th>\n",
       "      <th></th>\n",
       "    </tr>\n",
       "  </thead>\n",
       "  <tbody>\n",
       "    <tr>\n",
       "      <th>0.01</th>\n",
       "      <td>0.460315</td>\n",
       "    </tr>\n",
       "    <tr>\n",
       "      <th>0.02</th>\n",
       "      <td>0.461338</td>\n",
       "    </tr>\n",
       "    <tr>\n",
       "      <th>0.03</th>\n",
       "      <td>0.457844</td>\n",
       "    </tr>\n",
       "    <tr>\n",
       "      <th>all</th>\n",
       "      <td>0.459266</td>\n",
       "    </tr>\n",
       "  </tbody>\n",
       "</table>\n",
       "</div>"
      ],
      "text/plain": [
       "               nDCG\n",
       "threshold          \n",
       "0.01       0.460315\n",
       "0.02       0.461338\n",
       "0.03       0.457844\n",
       "all        0.459266"
      ]
     },
     "execution_count": 8,
     "metadata": {},
     "output_type": "execute_result"
    }
   ],
   "source": [
    "fs_results[fs_results.target=='clicked'].groupby('threshold').mean()"
   ]
  },
  {
   "cell_type": "code",
   "execution_count": 9,
   "metadata": {},
   "outputs": [
    {
     "data": {
      "text/html": [
       "<div>\n",
       "<style scoped>\n",
       "    .dataframe tbody tr th:only-of-type {\n",
       "        vertical-align: middle;\n",
       "    }\n",
       "\n",
       "    .dataframe tbody tr th {\n",
       "        vertical-align: top;\n",
       "    }\n",
       "\n",
       "    .dataframe thead th {\n",
       "        text-align: right;\n",
       "    }\n",
       "</style>\n",
       "<table border=\"1\" class=\"dataframe\">\n",
       "  <thead>\n",
       "    <tr style=\"text-align: right;\">\n",
       "      <th></th>\n",
       "      <th>nDCG</th>\n",
       "    </tr>\n",
       "    <tr>\n",
       "      <th>threshold</th>\n",
       "      <th></th>\n",
       "    </tr>\n",
       "  </thead>\n",
       "  <tbody>\n",
       "    <tr>\n",
       "      <th>0.01</th>\n",
       "      <td>0.001967</td>\n",
       "    </tr>\n",
       "    <tr>\n",
       "      <th>0.02</th>\n",
       "      <td>0.001642</td>\n",
       "    </tr>\n",
       "    <tr>\n",
       "      <th>0.03</th>\n",
       "      <td>0.002856</td>\n",
       "    </tr>\n",
       "    <tr>\n",
       "      <th>all</th>\n",
       "      <td>0.002532</td>\n",
       "    </tr>\n",
       "  </tbody>\n",
       "</table>\n",
       "</div>"
      ],
      "text/plain": [
       "               nDCG\n",
       "threshold          \n",
       "0.01       0.001967\n",
       "0.02       0.001642\n",
       "0.03       0.002856\n",
       "all        0.002532"
      ]
     },
     "execution_count": 9,
     "metadata": {},
     "output_type": "execute_result"
    }
   ],
   "source": [
    "fs_results[fs_results.target=='clicked'].groupby('threshold').std()"
   ]
  },
  {
   "cell_type": "code",
   "execution_count": 10,
   "metadata": {},
   "outputs": [
    {
     "data": {
      "text/html": [
       "<div>\n",
       "<style scoped>\n",
       "    .dataframe tbody tr th:only-of-type {\n",
       "        vertical-align: middle;\n",
       "    }\n",
       "\n",
       "    .dataframe tbody tr th {\n",
       "        vertical-align: top;\n",
       "    }\n",
       "\n",
       "    .dataframe thead th {\n",
       "        text-align: right;\n",
       "    }\n",
       "</style>\n",
       "<table border=\"1\" class=\"dataframe\">\n",
       "  <thead>\n",
       "    <tr style=\"text-align: right;\">\n",
       "      <th></th>\n",
       "      <th>nDCG</th>\n",
       "    </tr>\n",
       "    <tr>\n",
       "      <th>threshold</th>\n",
       "      <th></th>\n",
       "    </tr>\n",
       "  </thead>\n",
       "  <tbody>\n",
       "    <tr>\n",
       "      <th>0.01</th>\n",
       "      <td>0.456160</td>\n",
       "    </tr>\n",
       "    <tr>\n",
       "      <th>0.02</th>\n",
       "      <td>0.456807</td>\n",
       "    </tr>\n",
       "    <tr>\n",
       "      <th>0.03</th>\n",
       "      <td>0.454792</td>\n",
       "    </tr>\n",
       "    <tr>\n",
       "      <th>all</th>\n",
       "      <td>0.452397</td>\n",
       "    </tr>\n",
       "  </tbody>\n",
       "</table>\n",
       "</div>"
      ],
      "text/plain": [
       "               nDCG\n",
       "threshold          \n",
       "0.01       0.456160\n",
       "0.02       0.456807\n",
       "0.03       0.454792\n",
       "all        0.452397"
      ]
     },
     "execution_count": 10,
     "metadata": {},
     "output_type": "execute_result"
    }
   ],
   "source": [
    "fs_results[fs_results.target=='booked_clicked_combined'].groupby('threshold').mean()"
   ]
  },
  {
   "cell_type": "code",
   "execution_count": 11,
   "metadata": {},
   "outputs": [
    {
     "data": {
      "text/html": [
       "<div>\n",
       "<style scoped>\n",
       "    .dataframe tbody tr th:only-of-type {\n",
       "        vertical-align: middle;\n",
       "    }\n",
       "\n",
       "    .dataframe tbody tr th {\n",
       "        vertical-align: top;\n",
       "    }\n",
       "\n",
       "    .dataframe thead th {\n",
       "        text-align: right;\n",
       "    }\n",
       "</style>\n",
       "<table border=\"1\" class=\"dataframe\">\n",
       "  <thead>\n",
       "    <tr style=\"text-align: right;\">\n",
       "      <th></th>\n",
       "      <th>nDCG</th>\n",
       "    </tr>\n",
       "    <tr>\n",
       "      <th>threshold</th>\n",
       "      <th></th>\n",
       "    </tr>\n",
       "  </thead>\n",
       "  <tbody>\n",
       "    <tr>\n",
       "      <th>0.01</th>\n",
       "      <td>0.002582</td>\n",
       "    </tr>\n",
       "    <tr>\n",
       "      <th>0.02</th>\n",
       "      <td>0.002129</td>\n",
       "    </tr>\n",
       "    <tr>\n",
       "      <th>0.03</th>\n",
       "      <td>0.002777</td>\n",
       "    </tr>\n",
       "    <tr>\n",
       "      <th>all</th>\n",
       "      <td>0.001596</td>\n",
       "    </tr>\n",
       "  </tbody>\n",
       "</table>\n",
       "</div>"
      ],
      "text/plain": [
       "               nDCG\n",
       "threshold          \n",
       "0.01       0.002582\n",
       "0.02       0.002129\n",
       "0.03       0.002777\n",
       "all        0.001596"
      ]
     },
     "execution_count": 11,
     "metadata": {},
     "output_type": "execute_result"
    }
   ],
   "source": [
    "fs_results[fs_results.target=='booked_clicked_combined'].groupby('threshold').std()"
   ]
  },
  {
   "cell_type": "code",
   "execution_count": 12,
   "metadata": {},
   "outputs": [
    {
     "data": {
      "text/html": [
       "<div>\n",
       "<style scoped>\n",
       "    .dataframe tbody tr th:only-of-type {\n",
       "        vertical-align: middle;\n",
       "    }\n",
       "\n",
       "    .dataframe tbody tr th {\n",
       "        vertical-align: top;\n",
       "    }\n",
       "\n",
       "    .dataframe thead th {\n",
       "        text-align: right;\n",
       "    }\n",
       "</style>\n",
       "<table border=\"1\" class=\"dataframe\">\n",
       "  <thead>\n",
       "    <tr style=\"text-align: right;\">\n",
       "      <th></th>\n",
       "      <th>nDCG</th>\n",
       "    </tr>\n",
       "    <tr>\n",
       "      <th>threshold</th>\n",
       "      <th></th>\n",
       "    </tr>\n",
       "  </thead>\n",
       "  <tbody>\n",
       "    <tr>\n",
       "      <th>0.01</th>\n",
       "      <td>0.453960</td>\n",
       "    </tr>\n",
       "    <tr>\n",
       "      <th>0.02</th>\n",
       "      <td>0.459021</td>\n",
       "    </tr>\n",
       "    <tr>\n",
       "      <th>0.03</th>\n",
       "      <td>0.454393</td>\n",
       "    </tr>\n",
       "    <tr>\n",
       "      <th>all</th>\n",
       "      <td>0.452911</td>\n",
       "    </tr>\n",
       "  </tbody>\n",
       "</table>\n",
       "</div>"
      ],
      "text/plain": [
       "               nDCG\n",
       "threshold          \n",
       "0.01       0.453960\n",
       "0.02       0.459021\n",
       "0.03       0.454393\n",
       "all        0.452911"
      ]
     },
     "execution_count": 12,
     "metadata": {},
     "output_type": "execute_result"
    }
   ],
   "source": [
    "fs_results[fs_results.target=='booked'].groupby('threshold').mean()"
   ]
  },
  {
   "cell_type": "code",
   "execution_count": 17,
   "metadata": {},
   "outputs": [
    {
     "name": "stdout",
     "output_type": "stream",
     "text": [
      "WilcoxonResult(statistic=9.0, pvalue=0.05933611988090862)\n",
      "WilcoxonResult(statistic=0.0, pvalue=0.005062032126267864)\n",
      "WilcoxonResult(statistic=0.0, pvalue=0.005062032126267864)\n"
     ]
    }
   ],
   "source": [
    "booked = fs_results[fs_results.target=='booked']\n",
    "print(scipy.stats.wilcoxon(booked[booked.threshold=='all'].nDCG,booked[booked.threshold=='0.01'].nDCG))\n",
    "print(scipy.stats.wilcoxon(booked[booked.threshold=='all'].nDCG,booked[booked.threshold=='0.02'].nDCG))\n",
    "print(scipy.stats.wilcoxon(booked[booked.threshold=='0.02'].nDCG,booked[booked.threshold=='0.03'].nDCG))"
   ]
  },
  {
   "cell_type": "code",
   "execution_count": 22,
   "metadata": {},
   "outputs": [
    {
     "name": "stdout",
     "output_type": "stream",
     "text": [
      "WilcoxonResult(statistic=15.0, pvalue=0.20262160771231197)\n",
      "WilcoxonResult(statistic=7.0, pvalue=0.03665792867221451)\n",
      "WilcoxonResult(statistic=0.0, pvalue=0.005062032126267864)\n"
     ]
    }
   ],
   "source": [
    "clicked = fs_results[fs_results.target=='clicked']\n",
    "print(scipy.stats.wilcoxon(clicked[clicked.threshold=='all'].nDCG,clicked[clicked.threshold=='0.01'].nDCG))\n",
    "print(scipy.stats.wilcoxon(clicked[clicked.threshold=='all'].nDCG,clicked[clicked.threshold=='0.02'].nDCG))\n",
    "print(scipy.stats.wilcoxon(clicked[clicked.threshold=='0.02'].nDCG,clicked[clicked.threshold=='0.03'].nDCG))"
   ]
  },
  {
   "cell_type": "code",
   "execution_count": 19,
   "metadata": {},
   "outputs": [
    {
     "name": "stdout",
     "output_type": "stream",
     "text": [
      "WilcoxonResult(statistic=0.0, pvalue=0.005062032126267864)\n",
      "WilcoxonResult(statistic=0.0, pvalue=0.005062032126267864)\n",
      "WilcoxonResult(statistic=8.0, pvalue=0.04685328478814715)\n"
     ]
    }
   ],
   "source": [
    "combined = fs_results[fs_results.target=='booked_clicked_combined']\n",
    "print(scipy.stats.wilcoxon(combined[combined.threshold=='all'].nDCG,combined[combined.threshold=='0.01'].nDCG))\n",
    "print(scipy.stats.wilcoxon(combined[combined.threshold=='all'].nDCG,combined[combined.threshold=='0.02'].nDCG))\n",
    "print(scipy.stats.wilcoxon(combined[combined.threshold=='0.02'].nDCG,combined[combined.threshold=='0.03'].nDCG))"
   ]
  },
  {
   "cell_type": "code",
   "execution_count": 40,
   "metadata": {},
   "outputs": [
    {
     "data": {
      "image/png": "[encoded data removed]",
      "text/plain": [
       "<Figure size 288x194.4 with 1 Axes>"
      ]
     },
     "metadata": {},
     "output_type": "display_data"
    }
   ],
   "source": [
    "performances = pd.DataFrame()\n",
    "performances['nDCG'] = [0.35029756683476393, 0.3512945353964013, 0.35042918813804963, 0.3489432817393897, 0.35201724896314485, 0.46044, 0.45956, 0.46227, 0.46212, 0.46173, 0.46133, 0.46178, 0.46476, 0.45887, 0.46052, 0.4987536541981489, 0.4989099733211972, 0.5032678305462283, 0.503771378897987, 0.5057911727017712, 0.49984405076463123, 0.5032023706929742, 0.5042259184568814, 0.5012913423922873, 0.5042089198692519, 0.58083045804954381, 0.58182261104912247, 0.5813242075467403, 0.58817624642878641, 0.59038176597326741, 0.59001861806816736, 0.58827098467103645, 0.5898207180505779, 0.58965265072257556]\n",
    "performances['model'] = ['random','random','random','random','random','RF (10 trees)','RF (10 trees)','RF (10 trees)','RF (10 trees)','RF (10 trees)','RF (10 trees)','RF (10 trees)','RF (10 trees)','RF (10 trees)','RF (10 trees)','RF (50 trees)','RF (50 trees)','RF (50 trees)','RF (50 trees)','RF (50 trees)','RF (50 trees)','RF (50 trees)','RF (50 trees)','RF (50 trees)','RF (50 trees)', 'lightGBM (default v.1)','lightGBM (default v.1)','lightGBM (default v.1)', 'lightGBM (tuned, v.1)','lightGBM (tuned, v.1)','lightGBM (tuned, v.1)', 'lightGBM (tuned, v.2)', 'lightGBM (tuned, v.2)', 'lightGBM (tuned, v.2)']\n",
    "sns.set(style=\"darkgrid\")\n",
    "plt.figure(figsize=(4,2.7))\n",
    "ax = sns.barplot(x=\"model\", y=\"nDCG\", data=performances, ci=None, alpha=0.9, palette=\"Blues_d\")\n",
    "plt.title(\"model performances\")\n",
    "plt.xticks(rotation=45, ha='right')\n",
    "plt.xlabel('')\n",
    "plt.savefig(\"output/model_performance.pdf\", bbox_inches='tight')"
   ]
  },
  {
   "cell_type": "code",
   "execution_count": 39,
   "metadata": {},
   "outputs": [
    {
     "name": "stdout",
     "output_type": "stream",
     "text": [
      "WilcoxonResult(statistic=0.0, pvalue=0.005062032126267864)\n",
      "WilcoxonResult(statistic=0.0, pvalue=0.10880943004054568)\n",
      "WilcoxonResult(statistic=0.0, pvalue=0.10880943004054568)\n",
      "WilcoxonResult(statistic=1.0, pvalue=0.28504940740261275)\n",
      "0.5023266611841358 0.461338\n",
      "0.58924811781473\n"
     ]
    },
    {
     "name": "stderr",
     "output_type": "stream",
     "text": [
      "c:\\users\\fiona\\appdata\\local\\programs\\python\\python36\\lib\\site-packages\\scipy\\stats\\morestats.py:2385: UserWarning: Warning: sample size too small for normal approximation.\n",
      "  warnings.warn(\"Warning: sample size too small for normal approximation.\")\n"
     ]
    }
   ],
   "source": [
    "RF_10 = [0.46044, 0.45956, 0.46227, 0.46212, 0.46173, 0.46133, 0.46178, 0.46476, 0.45887, 0.46052]\n",
    "RF_50 = [0.4987536541981489, 0.4989099733211972, 0.5032678305462283, 0.503771378897987, 0.5057911727017712, 0.49984405076463123, 0.5032023706929742, 0.5042259184568814, 0.5012913423922873, 0.5042089198692519]\n",
    "GBM_no_tuning_v1 = [0.58083045804954381, 0.58182261104912247, 0.5813242075467403]\n",
    "GBM_with_tuning_v1 = [0.58817624642878641, 0.59038176597326741, 0.59001861806816736]\n",
    "GBM_with_tuning_v2 = [0.58827098467103645, 0.5898207180505779, 0.58965265072257556]\n",
    "print(scipy.stats.wilcoxon(RF_10, RF_50))\n",
    "print(scipy.stats.wilcoxon(GBM_no_tuning_v1, GBM_with_tuning_v1))\n",
    "print(scipy.stats.wilcoxon(GBM_no_tuning_v1, GBM_with_tuning_v2))\n",
    "print(scipy.stats.wilcoxon(GBM_with_tuning_v1, GBM_with_tuning_v2))\n",
    "print(np.mean(RF_50), np.mean(RF_10))\n",
    "print(np.mean(GBM_with_tuning_v2))"
   ]
  },
  {
   "cell_type": "code",
   "execution_count": null,
   "metadata": {},
   "outputs": [],
   "source": []
  }
 ],
 "metadata": {
  "kernelspec": {
   "display_name": "Python 3",
   "language": "python",
   "name": "python3"
  },
  "language_info": {
   "codemirror_mode": {
    "name": "ipython",
    "version": 3
   },
   "file_extension": ".py",
   "mimetype": "text/x-python",
   "name": "python",
   "nbconvert_exporter": "python",
   "pygments_lexer": "ipython3",
   "version": "3.6.0"
  }
 },
 "nbformat": 4,
 "nbformat_minor": 2
}
