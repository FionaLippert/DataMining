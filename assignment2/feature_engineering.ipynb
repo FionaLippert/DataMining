{
 "cells": [
  {
   "cell_type": "code",
   "execution_count": 2,
   "metadata": {
    "collapsed": true
   },
   "outputs": [],
   "source": [
    "import numpy as np\n",
    "import pandas as pd\n",
    "import dateparser\n",
    "import sklearn\n",
    "import seaborn as sns\n",
    "from sklearn.model_selection import cross_val_score, RepeatedStratifiedKFold, StratifiedKFold\n",
    "from sklearn.tree import DecisionTreeClassifier\n",
    "from sklearn.svm import SVR\n",
    "from sklearn import preprocessing\n",
    "from sklearn.linear_model import LinearRegression\n",
    "from sklearn.ensemble import RandomForestClassifier\n",
    "from sklearn.metrics import accuracy_score"
   ]
  },
  {
   "cell_type": "code",
   "execution_count": null,
   "metadata": {
    "collapsed": true
   },
   "outputs": [],
   "source": [
    "train = pd.read_csv('Data Mining VU data/training_set_VU_DM_2014.csv')"
   ]
  },
  {
   "cell_type": "code",
   "execution_count": null,
   "metadata": {
    "collapsed": true
   },
   "outputs": [],
   "source": [
    "test = pd.read_csv('Data Mining VU data/test_set_VU_DM_2014.csv')"
   ]
  },
  {
   "cell_type": "code",
   "execution_count": null,
   "metadata": {
    "collapsed": true
   },
   "outputs": [],
   "source": [
    "train_sample = train.sample(frac=0.3, random_state=0)\n",
    "test_sample = train.drop(train_sample.index)"
   ]
  },
  {
   "cell_type": "code",
   "execution_count": null,
   "metadata": {
    "collapsed": true
   },
   "outputs": [],
   "source": [
    "# replace missing review score by the worst value 0\n",
    "train.prop_review_score.fillna(0, inplace=True)\n",
    "test.prop_review_score.fillna(0, inplace=True)"
   ]
  },
  {
   "cell_type": "code",
   "execution_count": null,
   "metadata": {
    "collapsed": true
   },
   "outputs": [],
   "source": [
    "# mean location_score2 per srch_destination\n",
    "destination_groups_train = train.groupby(['srch_destination_id'])\n",
    "destination_means_train = destination_groups_train.apply(lambda x: x.prop_location_score2.mean())\n",
    "destination_groups_test = test.groupby(['srch_destination_id'])\n",
    "destination_means_test = destination_groups_test.apply(lambda x: x.prop_location_score2.mean())"
   ]
  },
  {
   "cell_type": "code",
   "execution_count": null,
   "metadata": {
    "collapsed": true
   },
   "outputs": [],
   "source": [
    "# mean location_score2 per prop_country\n",
    "country_groups_train = train.groupby(['prop_country_id'])\n",
    "country_means_train = country_groups_train.apply(lambda x: x.prop_location_score2.mean())\n",
    "country_groups_test = test.groupby(['prop_country_id'])\n",
    "country_means_test = country_groups_test.apply(lambda x: x.prop_location_score2.mean())"
   ]
  },
  {
   "cell_type": "code",
   "execution_count": null,
   "metadata": {
    "collapsed": true
   },
   "outputs": [],
   "source": [
    "# replace missing location_score2 by average within the destination_id cluster\n",
    "destination_mean_loc_score2_train = [destination_means_train[dest] for dest in train.srch_destination_id]\n",
    "train.prop_location_score2.fillna(dict(zip(train.index.values, destination_mean_loc_score2_train)), inplace=True)\n",
    "destination_mean_loc_score2_test = [destination_means_test[dest] for dest in test.srch_destination_id]\n",
    "test.prop_location_score2.fillna(dict(zip(test.index.values, destination_mean_loc_score2_test)), inplace=True)"
   ]
  },
  {
   "cell_type": "code",
   "execution_count": null,
   "metadata": {
    "collapsed": true
   },
   "outputs": [],
   "source": [
    "# replace missing location_score2 by average within the prop_country_id cluster\n",
    "country_mean_loc_score2_train = [country_means_train[country] for country in train.prop_country_id]\n",
    "train.prop_location_score2.fillna(dict(zip(train.index.values, country_mean_loc_score2_train)), inplace=True)\n",
    "country_mean_loc_score2_test = [country_means_test[country] for country in test.prop_country_id]\n",
    "test.prop_location_score2.fillna(dict(zip(test.index.values, country_mean_loc_score2_test)), inplace=True)"
   ]
  },
  {
   "cell_type": "code",
   "execution_count": null,
   "metadata": {
    "collapsed": true
   },
   "outputs": [],
   "source": [
    "# replace remaining missing location_score by overall average\n",
    "loc_score2_mean_train = train.prop_location_score2.mean()\n",
    "train.prop_location_score2.fillna(loc_score2_mean_train, inplace=True)\n",
    "loc_score2_mean_test = test.prop_location_score2.mean()\n",
    "test.prop_location_score2.fillna(loc_score2_mean_test, inplace=True)"
   ]
  },
  {
   "cell_type": "code",
   "execution_count": null,
   "metadata": {
    "collapsed": true
   },
   "outputs": [],
   "source": [
    "# replace missing srch_query_affinity_score by minimum value (hotels that did not register in any internet searches are punished)\n",
    "train.srch_query_affinity_score.replace(0,np.nan, inplace=True)\n",
    "test.srch_query_affinity_score.replace(0,np.nan, inplace=True)\n",
    "sqas_min = min(train.srch_query_affinity_score.min(),test.srch_query_affinity_score.min())\n",
    "train.srch_query_affinity_score.fillna(sqas_min, inplace=True)\n",
    "test.srch_query_affinity_score.fillna(sqas_min, inplace=True)"
   ]
  },
  {
   "cell_type": "code",
   "execution_count": null,
   "metadata": {
    "collapsed": true
   },
   "outputs": [],
   "source": [
    "# replace missing orig_destination_distance by average\n",
    "train.orig_destination_distance.fillna(train.orig_destination_distance.mean(), inplace=True)\n",
    "test.orig_destination_distance.fillna(test.orig_destination_distance.mean(), inplace=True)"
   ]
  },
  {
   "cell_type": "code",
   "execution_count": null,
   "metadata": {
    "collapsed": true
   },
   "outputs": [],
   "source": [
    "# mean orig_destination_distance per (srch_destination_id, visitor_location_country_id) cluster\n",
    "orig_destination_groups_train = train.groupby(['srch_destination_id', 'visitor_location_country_id'])\n",
    "distance_means_train = orig_destination_groups_train.apply(lambda x: x.orig_destination_distance.mean())\n",
    "orig_destination_groups_test = test.groupby(['srch_destination_id', 'visitor_location_country_id'])\n",
    "distance_means_test = orig_destination_groups_test.apply(lambda x: x.orig_destination_distance.mean())"
   ]
  },
  {
   "cell_type": "code",
   "execution_count": null,
   "metadata": {
    "collapsed": true
   },
   "outputs": [],
   "source": [
    "# mean orig_destination_distance per (srch_destination_id, site_id) cluster\n",
    "site_destination_groups_train = train.groupby(['srch_destination_id', 'site_id'])\n",
    "distance_means2_train = site_destination_groups_train.apply(lambda x: x.orig_destination_distance.mean())\n",
    "site_destination_groups_test = test.groupby(['srch_destination_id', 'site_id'])\n",
    "distance_means2_test = site_destination_groups_test.apply(lambda x: x.orig_destination_distance.mean())"
   ]
  },
  {
   "cell_type": "code",
   "execution_count": null,
   "metadata": {
    "collapsed": true
   },
   "outputs": [],
   "source": [
    "# replace missing orig_destination_distance by average within the (destination_id, visitor_location_country_id) cluster\n",
    "orig_destination_distance_estimate_train = [distance_means_train[(dest, orig)] for dest, orig in zip(train.srch_destination_id, train.visitor_location_country_id)]\n",
    "train.orig_destination_distance.fillna(dict(zip(train.index.values, orig_destination_distance_estimate_train)), inplace=True)\n",
    "orig_destination_distance_estimate_test = [distance_means_test[(dest, orig)] for dest, orig in zip(test.srch_destination_id, test.visitor_location_country_id)]\n",
    "test.orig_destination_distance.fillna(dict(zip(test.index.values, orig_destination_distance_estimate_test)), inplace=True)"
   ]
  },
  {
   "cell_type": "code",
   "execution_count": null,
   "metadata": {
    "collapsed": true
   },
   "outputs": [],
   "source": [
    "# replace missing orig_destination_distance by average within the (destination_id, site_id) cluster\n",
    "orig_destination_distance_estimate2_train = [distance_means2_train[(dest, site)] for dest, site in zip(train.srch_destination_id, train.site_id)]\n",
    "train.orig_destination_distance.fillna(dict(zip(train.index.values, orig_destination_distance_estimate2_train)), inplace=True)\n",
    "orig_destination_distance_estimate2_test = [distance_means2_test[(dest, site)] for dest, site in zip(test.srch_destination_id, test.site_id)]\n",
    "test.orig_destination_distance.fillna(dict(zip(test.index.values, orig_destination_distance_estimate2_test)), inplace=True)"
   ]
  },
  {
   "cell_type": "code",
   "execution_count": null,
   "metadata": {
    "collapsed": true
   },
   "outputs": [],
   "source": [
    "train['star_diff'] = np.abs(train.visitor_hist_starrating - train.prop_starrating)\n",
    "train['star_diff_bool'] = train.star_diff.apply(lambda x: 1 if x <= 1 else 0) # 1 means match, 0 mismatch\n",
    "test['star_diff'] = np.abs(test.visitor_hist_starrating - test.prop_starrating)\n",
    "test['star_diff_bool'] = test.star_diff.apply(lambda x: 1 if x <= 1 else 0) # 1 means match, 0 mismatch"
   ]
  },
  {
   "cell_type": "code",
   "execution_count": null,
   "metadata": {
    "collapsed": true
   },
   "outputs": [],
   "source": [
    "train['price_diff'] = np.abs(train.visitor_hist_adr_usd - train.price_usd)\n",
    "train['price_diff_bool'] = train.price_diff.apply(lambda x: 1 if x <= 27 else 0) # 1 means match, 0 mismatch\n",
    "test['price_diff'] = np.abs(test.visitor_hist_adr_usd - test.price_usd)\n",
    "test['price_diff_bool'] = test.price_diff.apply(lambda x: 1 if x <= 27 else 0) # 1 means match, 0 mismatch"
   ]
  },
  {
   "cell_type": "code",
   "execution_count": null,
   "metadata": {
    "collapsed": true
   },
   "outputs": [],
   "source": [
    "# mean hist_starrating per site_id\n",
    "hist_starrating_groups_train = train.groupby(['site_id'])\n",
    "starrating_means_train = hist_starrating_groups_train.apply(lambda x: x.visitor_hist_starrating.mean())\n",
    "hist_starrating_groups_test = test.groupby(['site_id'])\n",
    "starrating_means_test = hist_starrating_groups_test.apply(lambda x: x.visitor_hist_starrating.mean())"
   ]
  },
  {
   "cell_type": "code",
   "execution_count": null,
   "metadata": {
    "collapsed": true
   },
   "outputs": [],
   "source": [
    "# replace missing hist_starrating by average within the site_id cluster\n",
    "site_mean_hist_starrating_train = [starrating_means_train[site] for site in train.site_id]\n",
    "train['visitor_hist_starrating_filled'] = train.visitor_hist_starrating.copy()\n",
    "train.visitor_hist_starrating_filled.fillna(dict(zip(train.index.values, site_mean_hist_starrating_train)), inplace=True)\n",
    "train.visitor_hist_starrating_filled.fillna(train.visitor_hist_starrating.mean(), inplace=True)\n",
    "site_mean_hist_starrating_test = [starrating_means_test[site] for site in test.site_id]\n",
    "test['visitor_hist_starrating_filled'] = test.visitor_hist_starrating.copy()\n",
    "test.visitor_hist_starrating_filled.fillna(dict(zip(test.index.values, site_mean_hist_starrating_test)), inplace=True)\n",
    "test.visitor_hist_starrating_filled.fillna(test.visitor_hist_starrating.mean(), inplace=True)"
   ]
  },
  {
   "cell_type": "code",
   "execution_count": 4,
   "metadata": {
    "collapsed": true
   },
   "outputs": [],
   "source": [
    "# mean hist_adr_usd per site_id\n",
    "hist_price_groups_train = train.groupby(['site_id'])\n",
    "hist_price_means_train = hist_price_groups_train.apply(lambda x: x.visitor_hist_adr_usd.mean())\n",
    "hist_price_groups_test = test.groupby(['site_id'])\n",
    "hist_price_means_test = hist_price_groups_test.apply(lambda x: x.visitor_hist_adr_usd.mean())"
   ]
  },
  {
   "cell_type": "code",
   "execution_count": 5,
   "metadata": {
    "collapsed": true
   },
   "outputs": [],
   "source": [
    "# replace missing hist_adr_usd by average within the site_id cluster\n",
    "site_mean_hist_price_train = [hist_price_means_train[site] for site in train.site_id]\n",
    "train['visitor_hist_adr_usd_filled'] = train.visitor_hist_adr_usd.copy()\n",
    "train.visitor_hist_adr_usd_filled.fillna(dict(zip(train.index.values, site_mean_hist_price_train)), inplace=True)\n",
    "train.visitor_hist_adr_usd_filled.fillna(train.visitor_hist_adr_usd.mean(), inplace=True)\n",
    "site_mean_hist_price_test = [hist_price_means_test[site] for site in test.site_id]\n",
    "test['visitor_hist_adr_usd_filled'] = test.visitor_hist_adr_usd.copy()\n",
    "test.visitor_hist_adr_usd_filled.fillna(dict(zip(test.index.values, site_mean_hist_price_test)), inplace=True)\n",
    "test.visitor_hist_adr_usd_filled.fillna(test.visitor_hist_adr_usd.mean(), inplace=True)"
   ]
  },
  {
   "cell_type": "code",
   "execution_count": null,
   "metadata": {
    "collapsed": true
   },
   "outputs": [],
   "source": [
    "#train['month'] = train.date_time.apply(lambda x: dateparser.date.DateDataParser().get_date_data(str(x)).get('date_obj').month)"
   ]
  },
  {
   "cell_type": "code",
   "execution_count": 6,
   "metadata": {
    "collapsed": true
   },
   "outputs": [],
   "source": [
    "# difference between mean prices of booked hotels and mean prices of not-booked hotels per site_id\n",
    "site_groups = train.groupby(['site_id'])\n",
    "price_diff = site_groups.apply(lambda x: x[x.booking_bool == 1].price_usd.mean() - x[x.booking_bool == 0].price_usd.mean())"
   ]
  },
  {
   "cell_type": "code",
   "execution_count": 7,
   "metadata": {
    "collapsed": true
   },
   "outputs": [],
   "source": [
    "train['willingness_to_pay'] = train.site_id.apply(lambda x: 1 if price_diff[x] > 0 else 0)\n",
    "test['willingness_to_pay'] = test.site_id.apply(lambda x: 1 if price_diff[x] > 0 else 0)"
   ]
  },
  {
   "cell_type": "code",
   "execution_count": 8,
   "metadata": {
    "collapsed": true
   },
   "outputs": [],
   "source": [
    "hotel_groups = train.groupby(['prop_id'])\n",
    "hotel_quality = hotel_groups.apply(lambda x: float(x.booking_bool.sum())/x.booking_bool.values.size)"
   ]
  },
  {
   "cell_type": "code",
   "execution_count": 11,
   "metadata": {},
   "outputs": [
    {
     "data": {
      "text/plain": [
       "(-0.001, 0.25]    126665\n",
       "(0.25, 0.5]         1874\n",
       "(0.75, 1.0]          469\n",
       "(0.5, 0.75]          105\n",
       "dtype: int64"
      ]
     },
     "execution_count": 11,
     "metadata": {},
     "output_type": "execute_result"
    }
   ],
   "source": [
    "pd.cut(hotel_quality, 4).value_counts()"
   ]
  },
  {
   "cell_type": "code",
   "execution_count": 13,
   "metadata": {
    "collapsed": true
   },
   "outputs": [],
   "source": [
    "train['prop_desirability'] = train.prop_id.apply(lambda x: hotel_quality[x])\n",
    "train.prop_desirability.fillna(hotel_quality.mean(), inplace=True)"
   ]
  },
  {
   "cell_type": "code",
   "execution_count": null,
   "metadata": {
    "collapsed": true
   },
   "outputs": [],
   "source": [
    "test['prop_desirability'] = test.prop_id.apply(lambda x: hotel_quality[x] if x in train.prop_id.unique() else np.nan)\n",
    "test.prop_desirability.fillna(hotel_quality.mean(), inplace=True)"
   ]
  },
  {
   "cell_type": "code",
   "execution_count": null,
   "metadata": {
    "collapsed": true
   },
   "outputs": [],
   "source": [
    "train.drop(['comp1_rate','comp1_inv','comp1_rate_percent_diff','comp2_rate','comp2_inv','comp2_rate_percent_diff','comp3_rate','comp3_inv','comp3_rate_percent_diff','comp4_rate','comp4_inv','comp4_rate_percent_diff','comp5_rate','comp5_inv','comp5_rate_percent_diff','comp6_rate','comp6_inv','comp6_rate_percent_diff','comp7_rate','comp7_inv','comp7_rate_percent_diff','comp8_rate','comp8_inv','comp8_rate_percent_diff'], axis=1, inplace=True)"
   ]
  },
  {
   "cell_type": "code",
   "execution_count": 8,
   "metadata": {
    "collapsed": true
   },
   "outputs": [],
   "source": [
    "train.to_csv('train_clean.csv', index=False)"
   ]
  },
  {
   "cell_type": "code",
   "execution_count": 3,
   "metadata": {},
   "outputs": [
    {
     "ename": "NameError",
     "evalue": "name 'test' is not defined",
     "output_type": "error",
     "traceback": [
      "\u001b[1;31m---------------------------------------------------------------------------\u001b[0m",
      "\u001b[1;31mNameError\u001b[0m                                 Traceback (most recent call last)",
      "\u001b[1;32m<ipython-input-3-6c6970215b67>\u001b[0m in \u001b[0;36m<module>\u001b[1;34m()\u001b[0m\n\u001b[1;32m----> 1\u001b[1;33m \u001b[0mtest\u001b[0m\u001b[1;33m.\u001b[0m\u001b[0mto_csv\u001b[0m\u001b[1;33m(\u001b[0m\u001b[1;34m'test_clean.csv'\u001b[0m\u001b[1;33m,\u001b[0m \u001b[0mindex\u001b[0m\u001b[1;33m=\u001b[0m\u001b[1;32mFalse\u001b[0m\u001b[1;33m)\u001b[0m\u001b[1;33m\u001b[0m\u001b[0m\n\u001b[0m",
      "\u001b[1;31mNameError\u001b[0m: name 'test' is not defined"
     ]
    }
   ],
   "source": [
    "test.to_csv('test_clean.csv', index=False)"
   ]
  },
  {
   "cell_type": "code",
   "execution_count": null,
   "metadata": {
    "collapsed": true
   },
   "outputs": [],
   "source": [
    "features = ['site_id','prop_country_id','prop_starrating','prop_brand_bool','prop_location_score1','promotion_flag','srch_destination_id']\n",
    "cv = StratifiedKFold(n_splits=10, random_state=0)\n",
    "\n",
    "svr_scores = cross_val_score(SVR(), train_sample[features], train_sample['position'], cv=cv)\n",
    "#lr_scores = cross_val_score(LinearRegression(), binary_features, classification_data[target], cv=cv)\n",
    "    \n",
    "print(np.mean(svr_scores))"
   ]
  },
  {
   "cell_type": "code",
   "execution_count": 4,
   "metadata": {
    "collapsed": true
   },
   "outputs": [],
   "source": [
    "test = pd.read_csv('test_clean.csv')"
   ]
  },
  {
   "cell_type": "code",
   "execution_count": 6,
   "metadata": {
    "collapsed": true
   },
   "outputs": [],
   "source": [
    "train = pd.read_csv('train_clean.csv')"
   ]
  },
  {
   "cell_type": "code",
   "execution_count": 3,
   "metadata": {},
   "outputs": [
    {
     "data": {
      "text/html": [
       "<div>\n",
       "<style scoped>\n",
       "    .dataframe tbody tr th:only-of-type {\n",
       "        vertical-align: middle;\n",
       "    }\n",
       "\n",
       "    .dataframe tbody tr th {\n",
       "        vertical-align: top;\n",
       "    }\n",
       "\n",
       "    .dataframe thead th {\n",
       "        text-align: right;\n",
       "    }\n",
       "</style>\n",
       "<table border=\"1\" class=\"dataframe\">\n",
       "  <thead>\n",
       "    <tr style=\"text-align: right;\">\n",
       "      <th></th>\n",
       "      <th>srch_id</th>\n",
       "      <th>date_time</th>\n",
       "      <th>site_id</th>\n",
       "      <th>visitor_location_country_id</th>\n",
       "      <th>visitor_hist_starrating</th>\n",
       "      <th>visitor_hist_adr_usd</th>\n",
       "      <th>prop_country_id</th>\n",
       "      <th>prop_id</th>\n",
       "      <th>prop_starrating</th>\n",
       "      <th>prop_review_score</th>\n",
       "      <th>...</th>\n",
       "      <th>random_bool</th>\n",
       "      <th>click_bool</th>\n",
       "      <th>gross_bookings_usd</th>\n",
       "      <th>booking_bool</th>\n",
       "      <th>star_diff</th>\n",
       "      <th>star_diff_bool</th>\n",
       "      <th>price_diff</th>\n",
       "      <th>price_diff_bool</th>\n",
       "      <th>visitor_hist_starrating_filled</th>\n",
       "      <th>visitor_hist_adr_usd_filled</th>\n",
       "    </tr>\n",
       "  </thead>\n",
       "  <tbody>\n",
       "    <tr>\n",
       "      <th>0</th>\n",
       "      <td>1</td>\n",
       "      <td>2013-04-04 08:32:15</td>\n",
       "      <td>12</td>\n",
       "      <td>187</td>\n",
       "      <td>NaN</td>\n",
       "      <td>NaN</td>\n",
       "      <td>219</td>\n",
       "      <td>893</td>\n",
       "      <td>3</td>\n",
       "      <td>3.5</td>\n",
       "      <td>...</td>\n",
       "      <td>1</td>\n",
       "      <td>0</td>\n",
       "      <td>NaN</td>\n",
       "      <td>0</td>\n",
       "      <td>NaN</td>\n",
       "      <td>0</td>\n",
       "      <td>NaN</td>\n",
       "      <td>0</td>\n",
       "      <td>3.472818</td>\n",
       "      <td>NaN</td>\n",
       "    </tr>\n",
       "    <tr>\n",
       "      <th>1</th>\n",
       "      <td>1</td>\n",
       "      <td>2013-04-04 08:32:15</td>\n",
       "      <td>12</td>\n",
       "      <td>187</td>\n",
       "      <td>NaN</td>\n",
       "      <td>NaN</td>\n",
       "      <td>219</td>\n",
       "      <td>10404</td>\n",
       "      <td>4</td>\n",
       "      <td>4.0</td>\n",
       "      <td>...</td>\n",
       "      <td>1</td>\n",
       "      <td>0</td>\n",
       "      <td>NaN</td>\n",
       "      <td>0</td>\n",
       "      <td>NaN</td>\n",
       "      <td>0</td>\n",
       "      <td>NaN</td>\n",
       "      <td>0</td>\n",
       "      <td>3.472818</td>\n",
       "      <td>NaN</td>\n",
       "    </tr>\n",
       "    <tr>\n",
       "      <th>2</th>\n",
       "      <td>1</td>\n",
       "      <td>2013-04-04 08:32:15</td>\n",
       "      <td>12</td>\n",
       "      <td>187</td>\n",
       "      <td>NaN</td>\n",
       "      <td>NaN</td>\n",
       "      <td>219</td>\n",
       "      <td>21315</td>\n",
       "      <td>3</td>\n",
       "      <td>4.5</td>\n",
       "      <td>...</td>\n",
       "      <td>1</td>\n",
       "      <td>0</td>\n",
       "      <td>NaN</td>\n",
       "      <td>0</td>\n",
       "      <td>NaN</td>\n",
       "      <td>0</td>\n",
       "      <td>NaN</td>\n",
       "      <td>0</td>\n",
       "      <td>3.472818</td>\n",
       "      <td>NaN</td>\n",
       "    </tr>\n",
       "    <tr>\n",
       "      <th>3</th>\n",
       "      <td>1</td>\n",
       "      <td>2013-04-04 08:32:15</td>\n",
       "      <td>12</td>\n",
       "      <td>187</td>\n",
       "      <td>NaN</td>\n",
       "      <td>NaN</td>\n",
       "      <td>219</td>\n",
       "      <td>27348</td>\n",
       "      <td>2</td>\n",
       "      <td>4.0</td>\n",
       "      <td>...</td>\n",
       "      <td>1</td>\n",
       "      <td>0</td>\n",
       "      <td>NaN</td>\n",
       "      <td>0</td>\n",
       "      <td>NaN</td>\n",
       "      <td>0</td>\n",
       "      <td>NaN</td>\n",
       "      <td>0</td>\n",
       "      <td>3.472818</td>\n",
       "      <td>NaN</td>\n",
       "    </tr>\n",
       "    <tr>\n",
       "      <th>4</th>\n",
       "      <td>1</td>\n",
       "      <td>2013-04-04 08:32:15</td>\n",
       "      <td>12</td>\n",
       "      <td>187</td>\n",
       "      <td>NaN</td>\n",
       "      <td>NaN</td>\n",
       "      <td>219</td>\n",
       "      <td>29604</td>\n",
       "      <td>4</td>\n",
       "      <td>3.5</td>\n",
       "      <td>...</td>\n",
       "      <td>1</td>\n",
       "      <td>0</td>\n",
       "      <td>NaN</td>\n",
       "      <td>0</td>\n",
       "      <td>NaN</td>\n",
       "      <td>0</td>\n",
       "      <td>NaN</td>\n",
       "      <td>0</td>\n",
       "      <td>3.472818</td>\n",
       "      <td>NaN</td>\n",
       "    </tr>\n",
       "  </tbody>\n",
       "</table>\n",
       "<p>5 rows × 36 columns</p>\n",
       "</div>"
      ],
      "text/plain": [
       "   srch_id            date_time  site_id  visitor_location_country_id  \\\n",
       "0        1  2013-04-04 08:32:15       12                          187   \n",
       "1        1  2013-04-04 08:32:15       12                          187   \n",
       "2        1  2013-04-04 08:32:15       12                          187   \n",
       "3        1  2013-04-04 08:32:15       12                          187   \n",
       "4        1  2013-04-04 08:32:15       12                          187   \n",
       "\n",
       "   visitor_hist_starrating  visitor_hist_adr_usd  prop_country_id  prop_id  \\\n",
       "0                      NaN                   NaN              219      893   \n",
       "1                      NaN                   NaN              219    10404   \n",
       "2                      NaN                   NaN              219    21315   \n",
       "3                      NaN                   NaN              219    27348   \n",
       "4                      NaN                   NaN              219    29604   \n",
       "\n",
       "   prop_starrating  prop_review_score             ...               \\\n",
       "0                3                3.5             ...                \n",
       "1                4                4.0             ...                \n",
       "2                3                4.5             ...                \n",
       "3                2                4.0             ...                \n",
       "4                4                3.5             ...                \n",
       "\n",
       "   random_bool  click_bool  gross_bookings_usd  booking_bool  star_diff  \\\n",
       "0            1           0                 NaN             0        NaN   \n",
       "1            1           0                 NaN             0        NaN   \n",
       "2            1           0                 NaN             0        NaN   \n",
       "3            1           0                 NaN             0        NaN   \n",
       "4            1           0                 NaN             0        NaN   \n",
       "\n",
       "   star_diff_bool  price_diff  price_diff_bool  \\\n",
       "0               0         NaN                0   \n",
       "1               0         NaN                0   \n",
       "2               0         NaN                0   \n",
       "3               0         NaN                0   \n",
       "4               0         NaN                0   \n",
       "\n",
       "   visitor_hist_starrating_filled  visitor_hist_adr_usd_filled  \n",
       "0                        3.472818                          NaN  \n",
       "1                        3.472818                          NaN  \n",
       "2                        3.472818                          NaN  \n",
       "3                        3.472818                          NaN  \n",
       "4                        3.472818                          NaN  \n",
       "\n",
       "[5 rows x 36 columns]"
      ]
     },
     "execution_count": 3,
     "metadata": {},
     "output_type": "execute_result"
    }
   ],
   "source": [
    "train.head()"
   ]
  },
  {
   "cell_type": "code",
   "execution_count": null,
   "metadata": {
    "collapsed": true
   },
   "outputs": [],
   "source": []
  }
 ],
 "metadata": {
  "kernelspec": {
   "display_name": "Python 3",
   "language": "python",
   "name": "python3"
  },
  "language_info": {
   "codemirror_mode": {
    "name": "ipython",
    "version": 2
   },
   "file_extension": ".py",
   "mimetype": "text/x-python",
   "name": "python",
   "nbconvert_exporter": "python",
   "pygments_lexer": "ipython2",
   "version": "2.7.13"
  }
 },
 "nbformat": 4,
 "nbformat_minor": 2
}
