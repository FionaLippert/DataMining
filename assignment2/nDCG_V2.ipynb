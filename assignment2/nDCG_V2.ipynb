{
 "cells": [
  {
   "cell_type": "code",
   "execution_count": 1,
   "metadata": {},
   "outputs": [],
   "source": [
    "import pandas as pd\n",
    "import numpy as np"
   ]
  },
  {
   "cell_type": "markdown",
   "metadata": {},
   "source": [
    "## NDCG calculation tool\n",
    "Copied from https://github.com/BradAJ/Kaggle-Expedia-Sort/blob/master/kaggle_expedia_tools.py with minimal editing"
   ]
  },
  {
   "cell_type": "code",
   "execution_count": 13,
   "metadata": {},
   "outputs": [],
   "source": [
    "pred= [9,4,3,1,2,3,2,1,1,2,3,4,5,6,7]\n",
    "\n",
    "truth = pd.DataFrame()\n",
    "truth['srch_id'] = [1,1,1,1,1,2,2,2,3,3,3,3,3,3,3]\n",
    "truth['booking_bool'] = [1,0,0,0,0,1,0,0,1,0,0,0,0,0,0]\n",
    "truth['click_bool'] = [1,1,1,1,0,1,1,0,1,1,1,0,0,0,0]\n"
   ]
  },
  {
   "cell_type": "code",
   "execution_count": 16,
   "metadata": {},
   "outputs": [],
   "source": [
    "def ndcg_calc(train_df, pred_scores):\n",
    "    \"\"\"\n",
    "    >>ndcg_calc(train_df, pred_scores)\n",
    "       train_df: pd.DataFrame with Expedia Columns: 'srch_id', 'booking_bool', 'click_bool'\n",
    "       pred_scores: np.Array like vector of scores with length = num. rows in train_df\n",
    "       \n",
    "    Calculate Normalized Discounted Cumulative Gain for a dataset is ranked with pred_scores (higher score = higher rank).\n",
    "    If 'booking_bool' == 1 then that result gets 5 points.  If 'click_bool' == 1 then that result gets 1 point (except:\n",
    "    'booking_bool' = 1 implies 'click_bool' = 1, so only award 5 points total).  \n",
    "    \n",
    "    NDCG = DCG / IDCG\n",
    "    DCG = Sum( (2 ** points - 1) / log2(rank_in_results + 1) )\n",
    "    IDCG = Maximum possible DCG given the set of bookings/clicks in the training sample.\n",
    "    \n",
    "    \"\"\"\n",
    "    eval_df = train_df[['srch_id', 'booking_bool', 'click_bool']]\n",
    "    eval_df['score'] = pred_scores\n",
    "\n",
    "    logger = lambda x: np.log2(x + 1)\n",
    "    eval_df['log_rank'] = eval_df.groupby(by = 'srch_id')['score'].rank(ascending = False).map(logger)\n",
    "\n",
    "    book_dcg = (eval_df['booking_bool'] * 31.0 / eval_df['log_rank']).sum() #where 2 ** 5 - 1.0 = 31.0\n",
    "    book_idcg = (31.0 * eval_df['booking_bool']).sum()\n",
    "    \n",
    "    click_dcg = (eval_df['click_bool'] * (eval_df['booking_bool'] == 0) / eval_df['log_rank']).sum()\n",
    "    \n",
    "    # Max number of clicks in training set is 30.\n",
    "    # Calculate the 31 different contributions to IDCG that 0 to 30 clicks have\n",
    "    # and put in dict {num of click: IDCG value}.\n",
    "    disc = [1.0 / np.log2(i + 1) if i != 0 else 0 for i in range(31)]\n",
    "    disc_dict = { i: np.array(disc).cumsum()[i] for i in range(31)}\n",
    "    \n",
    "    # Map the number of clicks to its IDCG and subtract off any clicks due to bookings\n",
    "    # since these were accounted for in book_idcg.\n",
    "    click_idcg = (eval_df.groupby(by = 'srch_id')['click_bool'].sum().map(disc_dict) - eval_df.groupby(by = 'srch_id')['booking_bool'].sum()).sum()\n",
    "\n",
    "    return (book_dcg + click_dcg) / (book_idcg + click_idcg)\n",
    "\n"
   ]
  },
  {
   "cell_type": "code",
   "execution_count": 17,
   "metadata": {},
   "outputs": [
    {
     "data": {
      "text/plain": [
       "0.78096344439654486"
      ]
     },
     "execution_count": 17,
     "metadata": {},
     "output_type": "execute_result"
    }
   ],
   "source": [
    "ndcg_calc(truth, pred)"
   ]
  },
  {
   "cell_type": "code",
   "execution_count": null,
   "metadata": {},
   "outputs": [],
   "source": []
  }
 ],
 "metadata": {
  "kernelspec": {
   "display_name": "Python 3",
   "language": "python",
   "name": "python3"
  },
  "language_info": {
   "codemirror_mode": {
    "name": "ipython",
    "version": 3
   },
   "file_extension": ".py",
   "mimetype": "text/x-python",
   "name": "python",
   "nbconvert_exporter": "python",
   "pygments_lexer": "ipython3",
   "version": "3.6.5"
  }
 },
 "nbformat": 4,
 "nbformat_minor": 2
}
