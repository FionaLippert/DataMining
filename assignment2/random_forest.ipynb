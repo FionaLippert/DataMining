{
 "cells": [
  {
   "cell_type": "code",
   "execution_count": 1,
   "metadata": {
    "collapsed": true
   },
   "outputs": [],
   "source": [
    "import pandas as pd\n",
    "import numpy as np\n",
    "import seaborn as sns\n",
    "import matplotlib.pyplot as plt\n",
    "from sklearn.cluster import KMeans\n",
    "from sklearn.ensemble import RandomForestClassifier\n",
    "from sklearn.metrics import accuracy_score, f1_score, recall_score"
   ]
  },
  {
   "cell_type": "code",
   "execution_count": 2,
   "metadata": {
    "collapsed": true
   },
   "outputs": [],
   "source": [
    "train = pd.read_csv('Data Mining VU data/training_set_VU_DM_2014.csv')\n",
    "test = pd.read_csv('Data Mining VU data/test_set_VU_DM_2014.csv')"
   ]
  },
  {
   "cell_type": "code",
   "execution_count": 3,
   "metadata": {
    "collapsed": true
   },
   "outputs": [],
   "source": [
    "train_clean = pd.read_csv('processed_data/train_clean.csv')\n",
    "test_clean = pd.read_csv('processed_data/test_clean.csv')"
   ]
  },
  {
   "cell_type": "code",
   "execution_count": 4,
   "metadata": {
    "collapsed": true
   },
   "outputs": [],
   "source": [
    "# smaller samples for faster computing\n",
    "tr_cl_sample = train_clean.sample(frac=0.5, random_state=0)\n",
    "te_cl_sample = train_clean.drop(tr_cl_sample.index)"
   ]
  },
  {
   "cell_type": "code",
   "execution_count": 5,
   "metadata": {},
   "outputs": [
    {
     "data": {
      "text/html": [
       "<div>\n",
       "<style scoped>\n",
       "    .dataframe tbody tr th:only-of-type {\n",
       "        vertical-align: middle;\n",
       "    }\n",
       "\n",
       "    .dataframe tbody tr th {\n",
       "        vertical-align: top;\n",
       "    }\n",
       "\n",
       "    .dataframe thead th {\n",
       "        text-align: right;\n",
       "    }\n",
       "</style>\n",
       "<table border=\"1\" class=\"dataframe\">\n",
       "  <thead>\n",
       "    <tr style=\"text-align: right;\">\n",
       "      <th></th>\n",
       "      <th>srch_id</th>\n",
       "      <th>date_time</th>\n",
       "      <th>site_id</th>\n",
       "      <th>visitor_location_country_id</th>\n",
       "      <th>visitor_hist_starrating</th>\n",
       "      <th>visitor_hist_adr_usd</th>\n",
       "      <th>prop_country_id</th>\n",
       "      <th>prop_id</th>\n",
       "      <th>prop_starrating</th>\n",
       "      <th>prop_review_score</th>\n",
       "      <th>...</th>\n",
       "      <th>star_diff_bool</th>\n",
       "      <th>price_diff</th>\n",
       "      <th>price_diff_bool</th>\n",
       "      <th>visitor_hist_starrating_filled</th>\n",
       "      <th>visitor_hist_adr_usd_filled</th>\n",
       "      <th>willingness_to_pay</th>\n",
       "      <th>booked_clicked_combined</th>\n",
       "      <th>prop_desirability</th>\n",
       "      <th>star_diff_filled</th>\n",
       "      <th>price_diff_filled</th>\n",
       "    </tr>\n",
       "  </thead>\n",
       "  <tbody>\n",
       "    <tr>\n",
       "      <th>930452</th>\n",
       "      <td>62094</td>\n",
       "      <td>2013-01-26 22:10:19</td>\n",
       "      <td>18</td>\n",
       "      <td>31</td>\n",
       "      <td>NaN</td>\n",
       "      <td>NaN</td>\n",
       "      <td>32</td>\n",
       "      <td>47040</td>\n",
       "      <td>4</td>\n",
       "      <td>4.5</td>\n",
       "      <td>...</td>\n",
       "      <td>0</td>\n",
       "      <td>NaN</td>\n",
       "      <td>0</td>\n",
       "      <td>3.604085</td>\n",
       "      <td>167.558620</td>\n",
       "      <td>0</td>\n",
       "      <td>0</td>\n",
       "      <td>0.000000</td>\n",
       "      <td>0.395915</td>\n",
       "      <td>81.501380</td>\n",
       "    </tr>\n",
       "    <tr>\n",
       "      <th>1701430</th>\n",
       "      <td>114235</td>\n",
       "      <td>2012-11-13 12:42:21</td>\n",
       "      <td>1</td>\n",
       "      <td>13</td>\n",
       "      <td>NaN</td>\n",
       "      <td>NaN</td>\n",
       "      <td>15</td>\n",
       "      <td>115700</td>\n",
       "      <td>5</td>\n",
       "      <td>4.5</td>\n",
       "      <td>...</td>\n",
       "      <td>0</td>\n",
       "      <td>NaN</td>\n",
       "      <td>0</td>\n",
       "      <td>3.600963</td>\n",
       "      <td>223.067754</td>\n",
       "      <td>0</td>\n",
       "      <td>0</td>\n",
       "      <td>0.022989</td>\n",
       "      <td>1.399037</td>\n",
       "      <td>291.762246</td>\n",
       "    </tr>\n",
       "    <tr>\n",
       "      <th>1595996</th>\n",
       "      <td>107254</td>\n",
       "      <td>2013-04-25 10:22:32</td>\n",
       "      <td>16</td>\n",
       "      <td>31</td>\n",
       "      <td>NaN</td>\n",
       "      <td>NaN</td>\n",
       "      <td>31</td>\n",
       "      <td>31574</td>\n",
       "      <td>4</td>\n",
       "      <td>0.0</td>\n",
       "      <td>...</td>\n",
       "      <td>0</td>\n",
       "      <td>NaN</td>\n",
       "      <td>0</td>\n",
       "      <td>3.673218</td>\n",
       "      <td>194.181384</td>\n",
       "      <td>0</td>\n",
       "      <td>0</td>\n",
       "      <td>0.000000</td>\n",
       "      <td>0.326782</td>\n",
       "      <td>12.688616</td>\n",
       "    </tr>\n",
       "    <tr>\n",
       "      <th>3367696</th>\n",
       "      <td>226202</td>\n",
       "      <td>2013-02-21 19:02:17</td>\n",
       "      <td>5</td>\n",
       "      <td>219</td>\n",
       "      <td>NaN</td>\n",
       "      <td>NaN</td>\n",
       "      <td>219</td>\n",
       "      <td>33423</td>\n",
       "      <td>3</td>\n",
       "      <td>3.5</td>\n",
       "      <td>...</td>\n",
       "      <td>0</td>\n",
       "      <td>NaN</td>\n",
       "      <td>0</td>\n",
       "      <td>3.171522</td>\n",
       "      <td>166.362238</td>\n",
       "      <td>0</td>\n",
       "      <td>0</td>\n",
       "      <td>0.000000</td>\n",
       "      <td>0.171522</td>\n",
       "      <td>31.362238</td>\n",
       "    </tr>\n",
       "    <tr>\n",
       "      <th>3880444</th>\n",
       "      <td>260461</td>\n",
       "      <td>2013-05-02 23:11:06</td>\n",
       "      <td>14</td>\n",
       "      <td>100</td>\n",
       "      <td>NaN</td>\n",
       "      <td>NaN</td>\n",
       "      <td>219</td>\n",
       "      <td>24194</td>\n",
       "      <td>3</td>\n",
       "      <td>4.5</td>\n",
       "      <td>...</td>\n",
       "      <td>0</td>\n",
       "      <td>NaN</td>\n",
       "      <td>0</td>\n",
       "      <td>3.285429</td>\n",
       "      <td>184.321422</td>\n",
       "      <td>0</td>\n",
       "      <td>0</td>\n",
       "      <td>0.014634</td>\n",
       "      <td>0.285429</td>\n",
       "      <td>94.271422</td>\n",
       "    </tr>\n",
       "  </tbody>\n",
       "</table>\n",
       "<p>5 rows × 41 columns</p>\n",
       "</div>"
      ],
      "text/plain": [
       "         srch_id            date_time  site_id  visitor_location_country_id  \\\n",
       "930452     62094  2013-01-26 22:10:19       18                           31   \n",
       "1701430   114235  2012-11-13 12:42:21        1                           13   \n",
       "1595996   107254  2013-04-25 10:22:32       16                           31   \n",
       "3367696   226202  2013-02-21 19:02:17        5                          219   \n",
       "3880444   260461  2013-05-02 23:11:06       14                          100   \n",
       "\n",
       "         visitor_hist_starrating  visitor_hist_adr_usd  prop_country_id  \\\n",
       "930452                       NaN                   NaN               32   \n",
       "1701430                      NaN                   NaN               15   \n",
       "1595996                      NaN                   NaN               31   \n",
       "3367696                      NaN                   NaN              219   \n",
       "3880444                      NaN                   NaN              219   \n",
       "\n",
       "         prop_id  prop_starrating  prop_review_score        ...          \\\n",
       "930452     47040                4                4.5        ...           \n",
       "1701430   115700                5                4.5        ...           \n",
       "1595996    31574                4                0.0        ...           \n",
       "3367696    33423                3                3.5        ...           \n",
       "3880444    24194                3                4.5        ...           \n",
       "\n",
       "         star_diff_bool  price_diff  price_diff_bool  \\\n",
       "930452                0         NaN                0   \n",
       "1701430               0         NaN                0   \n",
       "1595996               0         NaN                0   \n",
       "3367696               0         NaN                0   \n",
       "3880444               0         NaN                0   \n",
       "\n",
       "         visitor_hist_starrating_filled  visitor_hist_adr_usd_filled  \\\n",
       "930452                         3.604085                   167.558620   \n",
       "1701430                        3.600963                   223.067754   \n",
       "1595996                        3.673218                   194.181384   \n",
       "3367696                        3.171522                   166.362238   \n",
       "3880444                        3.285429                   184.321422   \n",
       "\n",
       "         willingness_to_pay  booked_clicked_combined  prop_desirability  \\\n",
       "930452                    0                        0           0.000000   \n",
       "1701430                   0                        0           0.022989   \n",
       "1595996                   0                        0           0.000000   \n",
       "3367696                   0                        0           0.000000   \n",
       "3880444                   0                        0           0.014634   \n",
       "\n",
       "         star_diff_filled  price_diff_filled  \n",
       "930452           0.395915          81.501380  \n",
       "1701430          1.399037         291.762246  \n",
       "1595996          0.326782          12.688616  \n",
       "3367696          0.171522          31.362238  \n",
       "3880444          0.285429          94.271422  \n",
       "\n",
       "[5 rows x 41 columns]"
      ]
     },
     "execution_count": 5,
     "metadata": {},
     "output_type": "execute_result"
    }
   ],
   "source": [
    "tr_cl_sample.head()"
   ]
  },
  {
   "cell_type": "code",
   "execution_count": 6,
   "metadata": {},
   "outputs": [
    {
     "data": {
      "text/plain": [
       "srch_id                                 0\n",
       "date_time                               0\n",
       "site_id                                 0\n",
       "visitor_location_country_id             0\n",
       "visitor_hist_starrating           2353405\n",
       "visitor_hist_adr_usd              2352835\n",
       "prop_country_id                         0\n",
       "prop_id                                 0\n",
       "prop_starrating                         0\n",
       "prop_review_score                       0\n",
       "prop_brand_bool                         0\n",
       "prop_location_score1                    0\n",
       "prop_location_score2                    0\n",
       "prop_log_historical_price               0\n",
       "position                                0\n",
       "price_usd                               0\n",
       "promotion_flag                          0\n",
       "srch_destination_id                     0\n",
       "srch_length_of_stay                     0\n",
       "srch_booking_window                     0\n",
       "srch_adults_count                       0\n",
       "srch_children_count                     0\n",
       "srch_room_count                         0\n",
       "srch_saturday_night_bool                0\n",
       "srch_query_affinity_score               0\n",
       "orig_destination_distance               0\n",
       "random_bool                             0\n",
       "click_bool                              0\n",
       "gross_bookings_usd                2410260\n",
       "booking_bool                            0\n",
       "star_diff                         2353405\n",
       "star_diff_bool                          0\n",
       "price_diff                        2352835\n",
       "price_diff_bool                         0\n",
       "visitor_hist_starrating_filled          0\n",
       "visitor_hist_adr_usd_filled             0\n",
       "willingness_to_pay                      0\n",
       "booked_clicked_combined                 0\n",
       "prop_desirability                       0\n",
       "star_diff_filled                        0\n",
       "price_diff_filled                       0\n",
       "dtype: int64"
      ]
     },
     "execution_count": 6,
     "metadata": {},
     "output_type": "execute_result"
    }
   ],
   "source": [
    "tr_cl_sample.isnull().sum()"
   ]
  },
  {
   "cell_type": "markdown",
   "metadata": {},
   "source": [
    "# predict booked_clicked_combined"
   ]
  },
  {
   "cell_type": "code",
   "execution_count": 7,
   "metadata": {
    "collapsed": true
   },
   "outputs": [],
   "source": [
    "#col = [c for c in tr_cl_sample.columns if c not in ['booking_bool', 'date_time', 'visitor_hist_starrating', 'visitor_hist_adr_usd', 'gross_bookings_usd', 'star_diff', 'price_diff']]\n",
    "col = [c for c in tr_cl_sample.columns if c not in ['position', 'date_time', 'visitor_hist_starrating', 'visitor_hist_adr_usd', 'gross_bookings_usd', 'star_diff', 'price_diff', 'booking_bool', 'click_bool', 'booked_clicked_combined']]"
   ]
  },
  {
   "cell_type": "code",
   "execution_count": 10,
   "metadata": {},
   "outputs": [
    {
     "name": "stderr",
     "output_type": "stream",
     "text": [
      "/Users/Tamika/anaconda/lib/python2.7/site-packages/ipykernel_launcher.py:5: DataConversionWarning: A column-vector y was passed when a 1d array was expected. Please change the shape of y to (n_samples,), for example using ravel().\n",
      "  \"\"\"\n"
     ]
    },
    {
     "data": {
      "text/plain": [
       "RandomForestClassifier(bootstrap=True, class_weight=None, criterion='gini',\n",
       "            max_depth=None, max_features='auto', max_leaf_nodes=None,\n",
       "            min_impurity_split=1e-07, min_samples_leaf=1,\n",
       "            min_samples_split=2, min_weight_fraction_leaf=0.0,\n",
       "            n_estimators=10, n_jobs=1, oob_score=False, random_state=None,\n",
       "            verbose=0, warm_start=False)"
      ]
     },
     "execution_count": 10,
     "metadata": {},
     "output_type": "execute_result"
    }
   ],
   "source": [
    "target = pd.DataFrame(tr_cl_sample['booked_clicked_combined'])\n",
    "data = pd.DataFrame(tr_cl_sample[col])\n",
    "\n",
    "clf = RandomForestClassifier()\n",
    "clf.fit(data, target)"
   ]
  },
  {
   "cell_type": "code",
   "execution_count": 11,
   "metadata": {
    "collapsed": true
   },
   "outputs": [],
   "source": [
    "data_test = pd.DataFrame(te_cl_sample[col])\n",
    "target_test = pd.DataFrame(te_cl_sample['booked_clicked_combined'])\n",
    "\n",
    "predict = clf.predict(data_test)"
   ]
  },
  {
   "cell_type": "code",
   "execution_count": 12,
   "metadata": {},
   "outputs": [
    {
     "name": "stdout",
     "output_type": "stream",
     "text": [
      "accuracy: 0.954543\n",
      "f1-score (micro): 0.954543\n",
      "f1-score (macro): 0.339044\n",
      "f1-score (weighted): 0.933938\n",
      "recall-score (micro): 0.954543\n",
      "recall-score (macro): 0.339993\n",
      "recall-score (weighted): 0.954543\n"
     ]
    }
   ],
   "source": [
    "acc = accuracy_score(target_test, predict)\n",
    "print('accuracy: %f' %acc)\n",
    "f1_ = f1_score(target_test, predict, average='micro')\n",
    "print('f1-score (micro): %f' %f1_)\n",
    "f1_ = f1_score(target_test, predict, average='macro')\n",
    "print('f1-score (macro): %f' %f1_)\n",
    "f1_ = f1_score(target_test, predict, average='weighted')\n",
    "print('f1-score (weighted): %f' %f1_)\n",
    "recall = recall_score(target_test, predict, average='micro')\n",
    "print('recall-score (micro): %f' %recall)\n",
    "recall = recall_score(target_test, predict, average='macro')\n",
    "print('recall-score (macro): %f' %recall)\n",
    "recall = recall_score(target_test, predict, average='weighted')\n",
    "print('recall-score (weighted): %f' %recall)"
   ]
  },
  {
   "cell_type": "code",
   "execution_count": 13,
   "metadata": {
    "scrolled": false
   },
   "outputs": [
    {
     "data": {
      "text/html": [
       "<div>\n",
       "<style scoped>\n",
       "    .dataframe tbody tr th:only-of-type {\n",
       "        vertical-align: middle;\n",
       "    }\n",
       "\n",
       "    .dataframe tbody tr th {\n",
       "        vertical-align: top;\n",
       "    }\n",
       "\n",
       "    .dataframe thead th {\n",
       "        text-align: right;\n",
       "    }\n",
       "</style>\n",
       "<table border=\"1\" class=\"dataframe\">\n",
       "  <thead>\n",
       "    <tr style=\"text-align: right;\">\n",
       "      <th></th>\n",
       "      <th>0</th>\n",
       "    </tr>\n",
       "  </thead>\n",
       "  <tbody>\n",
       "    <tr>\n",
       "      <th>orig_destination_distance</th>\n",
       "      <td>0.069142</td>\n",
       "    </tr>\n",
       "    <tr>\n",
       "      <th>price_diff_bool</th>\n",
       "      <td>0.000946</td>\n",
       "    </tr>\n",
       "    <tr>\n",
       "      <th>price_diff_filled</th>\n",
       "      <td>0.069701</td>\n",
       "    </tr>\n",
       "    <tr>\n",
       "      <th>price_usd</th>\n",
       "      <td>0.071804</td>\n",
       "    </tr>\n",
       "    <tr>\n",
       "      <th>promotion_flag</th>\n",
       "      <td>0.004133</td>\n",
       "    </tr>\n",
       "    <tr>\n",
       "      <th>prop_brand_bool</th>\n",
       "      <td>0.008022</td>\n",
       "    </tr>\n",
       "    <tr>\n",
       "      <th>prop_country_id</th>\n",
       "      <td>0.018755</td>\n",
       "    </tr>\n",
       "    <tr>\n",
       "      <th>prop_desirability</th>\n",
       "      <td>0.089587</td>\n",
       "    </tr>\n",
       "    <tr>\n",
       "      <th>prop_id</th>\n",
       "      <td>0.063176</td>\n",
       "    </tr>\n",
       "    <tr>\n",
       "      <th>prop_location_score1</th>\n",
       "      <td>0.050037</td>\n",
       "    </tr>\n",
       "    <tr>\n",
       "      <th>prop_location_score2</th>\n",
       "      <td>0.069477</td>\n",
       "    </tr>\n",
       "    <tr>\n",
       "      <th>prop_log_historical_price</th>\n",
       "      <td>0.060989</td>\n",
       "    </tr>\n",
       "    <tr>\n",
       "      <th>prop_review_score</th>\n",
       "      <td>0.021286</td>\n",
       "    </tr>\n",
       "    <tr>\n",
       "      <th>prop_starrating</th>\n",
       "      <td>0.007484</td>\n",
       "    </tr>\n",
       "    <tr>\n",
       "      <th>random_bool</th>\n",
       "      <td>0.007470</td>\n",
       "    </tr>\n",
       "    <tr>\n",
       "      <th>site_id</th>\n",
       "      <td>0.012392</td>\n",
       "    </tr>\n",
       "    <tr>\n",
       "      <th>srch_adults_count</th>\n",
       "      <td>0.021261</td>\n",
       "    </tr>\n",
       "    <tr>\n",
       "      <th>srch_booking_window</th>\n",
       "      <td>0.065070</td>\n",
       "    </tr>\n",
       "    <tr>\n",
       "      <th>srch_children_count</th>\n",
       "      <td>0.016218</td>\n",
       "    </tr>\n",
       "    <tr>\n",
       "      <th>srch_destination_id</th>\n",
       "      <td>0.059535</td>\n",
       "    </tr>\n",
       "    <tr>\n",
       "      <th>srch_id</th>\n",
       "      <td>0.082814</td>\n",
       "    </tr>\n",
       "    <tr>\n",
       "      <th>srch_length_of_stay</th>\n",
       "      <td>0.026273</td>\n",
       "    </tr>\n",
       "    <tr>\n",
       "      <th>srch_query_affinity_score</th>\n",
       "      <td>0.011754</td>\n",
       "    </tr>\n",
       "    <tr>\n",
       "      <th>srch_room_count</th>\n",
       "      <td>0.007744</td>\n",
       "    </tr>\n",
       "    <tr>\n",
       "      <th>srch_saturday_night_bool</th>\n",
       "      <td>0.012563</td>\n",
       "    </tr>\n",
       "    <tr>\n",
       "      <th>star_diff_bool</th>\n",
       "      <td>0.001647</td>\n",
       "    </tr>\n",
       "    <tr>\n",
       "      <th>star_diff_filled</th>\n",
       "      <td>0.020361</td>\n",
       "    </tr>\n",
       "    <tr>\n",
       "      <th>visitor_hist_adr_usd_filled</th>\n",
       "      <td>0.015862</td>\n",
       "    </tr>\n",
       "    <tr>\n",
       "      <th>visitor_hist_starrating_filled</th>\n",
       "      <td>0.014176</td>\n",
       "    </tr>\n",
       "    <tr>\n",
       "      <th>visitor_location_country_id</th>\n",
       "      <td>0.018075</td>\n",
       "    </tr>\n",
       "    <tr>\n",
       "      <th>willingness_to_pay</th>\n",
       "      <td>0.002243</td>\n",
       "    </tr>\n",
       "  </tbody>\n",
       "</table>\n",
       "</div>"
      ],
      "text/plain": [
       "                                       0\n",
       "orig_destination_distance       0.069142\n",
       "price_diff_bool                 0.000946\n",
       "price_diff_filled               0.069701\n",
       "price_usd                       0.071804\n",
       "promotion_flag                  0.004133\n",
       "prop_brand_bool                 0.008022\n",
       "prop_country_id                 0.018755\n",
       "prop_desirability               0.089587\n",
       "prop_id                         0.063176\n",
       "prop_location_score1            0.050037\n",
       "prop_location_score2            0.069477\n",
       "prop_log_historical_price       0.060989\n",
       "prop_review_score               0.021286\n",
       "prop_starrating                 0.007484\n",
       "random_bool                     0.007470\n",
       "site_id                         0.012392\n",
       "srch_adults_count               0.021261\n",
       "srch_booking_window             0.065070\n",
       "srch_children_count             0.016218\n",
       "srch_destination_id             0.059535\n",
       "srch_id                         0.082814\n",
       "srch_length_of_stay             0.026273\n",
       "srch_query_affinity_score       0.011754\n",
       "srch_room_count                 0.007744\n",
       "srch_saturday_night_bool        0.012563\n",
       "star_diff_bool                  0.001647\n",
       "star_diff_filled                0.020361\n",
       "visitor_hist_adr_usd_filled     0.015862\n",
       "visitor_hist_starrating_filled  0.014176\n",
       "visitor_location_country_id     0.018075\n",
       "willingness_to_pay              0.002243"
      ]
     },
     "execution_count": 13,
     "metadata": {},
     "output_type": "execute_result"
    }
   ],
   "source": [
    "dictionary = dict(zip(col, clf.feature_importances_))\n",
    "pd.Series(dictionary).to_frame()\n",
    "# how do I rank these in descending order??"
   ]
  },
  {
   "cell_type": "code",
   "execution_count": 14,
   "metadata": {},
   "outputs": [
    {
     "name": "stderr",
     "output_type": "stream",
     "text": [
      "/Users/Tamika/anaconda/lib/python2.7/site-packages/ipykernel_launcher.py:6: DataConversionWarning: A column-vector y was passed when a 1d array was expected. Please change the shape of y to (n_samples,), for example using ravel().\n",
      "  \n"
     ]
    }
   ],
   "source": [
    "col = ['prop_desirability', 'price_usd', 'prop_location_score2', 'prop_location_score1']\n",
    "target = pd.DataFrame(tr_cl_sample['booked_clicked_combined'])\n",
    "data = pd.DataFrame(tr_cl_sample[col])\n",
    "\n",
    "clf2 = RandomForestClassifier()\n",
    "clf2.fit(data, target)\n",
    "\n",
    "data_test = pd.DataFrame(te_cl_sample[col])\n",
    "target_test = pd.DataFrame(te_cl_sample['booked_clicked_combined'])\n",
    "\n",
    "predict = clf2.predict(data_test)"
   ]
  },
  {
   "cell_type": "code",
   "execution_count": 15,
   "metadata": {},
   "outputs": [
    {
     "name": "stdout",
     "output_type": "stream",
     "text": [
      "accuracy: 0.944112\n",
      "f1-score (micro): 0.944112\n",
      "f1-score (macro): 0.350798\n",
      "f1-score (weighted): 0.929948\n",
      "recall-score (micro): 0.944112\n",
      "recall-score (macro): 0.347001\n",
      "recall-score (weighted): 0.944112\n"
     ]
    }
   ],
   "source": [
    "acc = accuracy_score(target_test, predict)\n",
    "print('accuracy: %f' %acc)\n",
    "f1_ = f1_score(target_test, predict, average='micro')\n",
    "print('f1-score (micro): %f' %f1_)\n",
    "f1_ = f1_score(target_test, predict, average='macro')\n",
    "print('f1-score (macro): %f' %f1_)\n",
    "f1_ = f1_score(target_test, predict, average='weighted')\n",
    "print('f1-score (weighted): %f' %f1_)\n",
    "recall = recall_score(target_test, predict, average='micro')\n",
    "print('recall-score (micro): %f' %recall)\n",
    "recall = recall_score(target_test, predict, average='macro')\n",
    "print('recall-score (macro): %f' %recall)\n",
    "recall = recall_score(target_test, predict, average='weighted')\n",
    "print('recall-score (weighted): %f' %recall)"
   ]
  },
  {
   "cell_type": "code",
   "execution_count": 16,
   "metadata": {},
   "outputs": [
    {
     "name": "stderr",
     "output_type": "stream",
     "text": [
      "/Users/Tamika/anaconda/lib/python2.7/site-packages/ipykernel_launcher.py:6: DataConversionWarning: A column-vector y was passed when a 1d array was expected. Please change the shape of y to (n_samples,), for example using ravel().\n",
      "  \n"
     ]
    }
   ],
   "source": [
    "col = ['price_diff_filled', 'srch_booking_window', 'orig_destination_distance']\n",
    "target = pd.DataFrame(tr_cl_sample['booked_clicked_combined'])\n",
    "data = pd.DataFrame(tr_cl_sample[col])\n",
    "\n",
    "clf3 = RandomForestClassifier()\n",
    "clf3.fit(data, target)\n",
    "\n",
    "data_test = pd.DataFrame(te_cl_sample[col])\n",
    "target_test = pd.DataFrame(te_cl_sample['booked_clicked_combined'])\n",
    "\n",
    "predict = clf3.predict(data_test)"
   ]
  },
  {
   "cell_type": "code",
   "execution_count": 17,
   "metadata": {},
   "outputs": [
    {
     "name": "stdout",
     "output_type": "stream",
     "text": [
      "accuracy: 0.944357\n",
      "f1-score (micro): 0.944357\n",
      "f1-score (macro): 0.332522\n",
      "f1-score (weighted): 0.928413\n",
      "recall-score (micro): 0.944357\n",
      "recall-score (macro): 0.334937\n",
      "recall-score (weighted): 0.944357\n"
     ]
    }
   ],
   "source": [
    "acc = accuracy_score(target_test, predict)\n",
    "print('accuracy: %f' %acc)\n",
    "f1_ = f1_score(target_test, predict, average='micro')\n",
    "print('f1-score (micro): %f' %f1_)\n",
    "f1_ = f1_score(target_test, predict, average='macro')\n",
    "print('f1-score (macro): %f' %f1_)\n",
    "f1_ = f1_score(target_test, predict, average='weighted')\n",
    "print('f1-score (weighted): %f' %f1_)\n",
    "recall = recall_score(target_test, predict, average='micro')\n",
    "print('recall-score (micro): %f' %recall)\n",
    "recall = recall_score(target_test, predict, average='macro')\n",
    "print('recall-score (macro): %f' %recall)\n",
    "recall = recall_score(target_test, predict, average='weighted')\n",
    "print('recall-score (weighted): %f' %recall)"
   ]
  },
  {
   "cell_type": "code",
   "execution_count": 18,
   "metadata": {},
   "outputs": [
    {
     "name": "stderr",
     "output_type": "stream",
     "text": [
      "/Users/Tamika/anaconda/lib/python2.7/site-packages/ipykernel_launcher.py:6: DataConversionWarning: A column-vector y was passed when a 1d array was expected. Please change the shape of y to (n_samples,), for example using ravel().\n",
      "  \n"
     ]
    }
   ],
   "source": [
    "col = ['prop_desirability', 'srch_id']\n",
    "target = pd.DataFrame(tr_cl_sample['booked_clicked_combined'])\n",
    "data = pd.DataFrame(tr_cl_sample[col])\n",
    "\n",
    "clf4 = RandomForestClassifier()\n",
    "clf4.fit(data, target)\n",
    "\n",
    "data_test = pd.DataFrame(te_cl_sample[col])\n",
    "target_test = pd.DataFrame(te_cl_sample['booked_clicked_combined'])\n",
    "\n",
    "predict = clf4.predict(data_test)"
   ]
  },
  {
   "cell_type": "code",
   "execution_count": 19,
   "metadata": {},
   "outputs": [
    {
     "name": "stdout",
     "output_type": "stream",
     "text": [
      "accuracy: 0.935638\n",
      "f1-score (micro): 0.935638\n",
      "f1-score (macro): 0.348683\n",
      "f1-score (weighted): 0.925644\n",
      "recall-score (micro): 0.935638\n",
      "recall-score (macro): 0.346250\n",
      "recall-score (weighted): 0.935638\n"
     ]
    }
   ],
   "source": [
    "acc = accuracy_score(target_test, predict)\n",
    "print('accuracy: %f' %acc)\n",
    "f1_ = f1_score(target_test, predict, average='micro')\n",
    "print('f1-score (micro): %f' %f1_)\n",
    "f1_ = f1_score(target_test, predict, average='macro')\n",
    "print('f1-score (macro): %f' %f1_)\n",
    "f1_ = f1_score(target_test, predict, average='weighted')\n",
    "print('f1-score (weighted): %f' %f1_)\n",
    "recall = recall_score(target_test, predict, average='micro')\n",
    "print('recall-score (micro): %f' %recall)\n",
    "recall = recall_score(target_test, predict, average='macro')\n",
    "print('recall-score (macro): %f' %recall)\n",
    "recall = recall_score(target_test, predict, average='weighted')\n",
    "print('recall-score (weighted): %f' %recall)"
   ]
  },
  {
   "cell_type": "code",
   "execution_count": 20,
   "metadata": {},
   "outputs": [
    {
     "name": "stderr",
     "output_type": "stream",
     "text": [
      "/Users/Tamika/anaconda/lib/python2.7/site-packages/ipykernel_launcher.py:6: DataConversionWarning: A column-vector y was passed when a 1d array was expected. Please change the shape of y to (n_samples,), for example using ravel().\n",
      "  \n"
     ]
    }
   ],
   "source": [
    "col = ['prop_desirability', 'orig_destination_distance', 'price_usd']\n",
    "target = pd.DataFrame(tr_cl_sample['booked_clicked_combined'])\n",
    "data = pd.DataFrame(tr_cl_sample[col])\n",
    "\n",
    "clf5 = RandomForestClassifier()\n",
    "clf5.fit(data, target)\n",
    "\n",
    "data_test = pd.DataFrame(te_cl_sample[col])\n",
    "target_test = pd.DataFrame(te_cl_sample['booked_clicked_combined'])\n",
    "\n",
    "predict = clf5.predict(data_test)"
   ]
  },
  {
   "cell_type": "code",
   "execution_count": 21,
   "metadata": {},
   "outputs": [
    {
     "name": "stdout",
     "output_type": "stream",
     "text": [
      "accuracy: 0.948443\n",
      "f1-score (micro): 0.948443\n",
      "f1-score (macro): 0.345566\n",
      "f1-score (weighted): 0.931579\n",
      "recall-score (micro): 0.948443\n",
      "recall-score (macro): 0.343423\n",
      "recall-score (weighted): 0.948443\n"
     ]
    }
   ],
   "source": [
    "acc = accuracy_score(target_test, predict)\n",
    "print('accuracy: %f' %acc)\n",
    "f1_ = f1_score(target_test, predict, average='micro')\n",
    "print('f1-score (micro): %f' %f1_)\n",
    "f1_ = f1_score(target_test, predict, average='macro')\n",
    "print('f1-score (macro): %f' %f1_)\n",
    "f1_ = f1_score(target_test, predict, average='weighted')\n",
    "print('f1-score (weighted): %f' %f1_)\n",
    "recall = recall_score(target_test, predict, average='micro')\n",
    "print('recall-score (micro): %f' %recall)\n",
    "recall = recall_score(target_test, predict, average='macro')\n",
    "print('recall-score (macro): %f' %recall)\n",
    "recall = recall_score(target_test, predict, average='weighted')\n",
    "print('recall-score (weighted): %f' %recall)"
   ]
  },
  {
   "cell_type": "code",
   "execution_count": 22,
   "metadata": {},
   "outputs": [
    {
     "name": "stderr",
     "output_type": "stream",
     "text": [
      "/Users/Tamika/anaconda/lib/python2.7/site-packages/ipykernel_launcher.py:6: DataConversionWarning: A column-vector y was passed when a 1d array was expected. Please change the shape of y to (n_samples,), for example using ravel().\n",
      "  \n"
     ]
    }
   ],
   "source": [
    "col = ['srch_id', 'orig_destination_distance', 'price_usd', 'willingness_to_pay']\n",
    "target = pd.DataFrame(tr_cl_sample['booked_clicked_combined'])\n",
    "data = pd.DataFrame(tr_cl_sample[col])\n",
    "\n",
    "clf6 = RandomForestClassifier()\n",
    "clf6.fit(data, target)\n",
    "\n",
    "data_test = pd.DataFrame(te_cl_sample[col])\n",
    "target_test = pd.DataFrame(te_cl_sample['booked_clicked_combined'])\n",
    "\n",
    "predict = clf6.predict(data_test)"
   ]
  },
  {
   "cell_type": "code",
   "execution_count": 23,
   "metadata": {},
   "outputs": [
    {
     "name": "stdout",
     "output_type": "stream",
     "text": [
      "accuracy: 0.950454\n",
      "f1-score (micro): 0.950454\n",
      "f1-score (macro): 0.329628\n",
      "f1-score (weighted): 0.931132\n",
      "recall-score (micro): 0.950454\n",
      "recall-score (macro): 0.334300\n",
      "recall-score (weighted): 0.950454\n"
     ]
    }
   ],
   "source": [
    "acc = accuracy_score(target_test, predict)\n",
    "print('accuracy: %f' %acc)\n",
    "f1_ = f1_score(target_test, predict, average='micro')\n",
    "print('f1-score (micro): %f' %f1_)\n",
    "f1_ = f1_score(target_test, predict, average='macro')\n",
    "print('f1-score (macro): %f' %f1_)\n",
    "f1_ = f1_score(target_test, predict, average='weighted')\n",
    "print('f1-score (weighted): %f' %f1_)\n",
    "recall = recall_score(target_test, predict, average='micro')\n",
    "print('recall-score (micro): %f' %recall)\n",
    "recall = recall_score(target_test, predict, average='macro')\n",
    "print('recall-score (macro): %f' %recall)\n",
    "recall = recall_score(target_test, predict, average='weighted')\n",
    "print('recall-score (weighted): %f' %recall)"
   ]
  },
  {
   "cell_type": "code",
   "execution_count": 24,
   "metadata": {},
   "outputs": [
    {
     "name": "stderr",
     "output_type": "stream",
     "text": [
      "/Users/Tamika/anaconda/lib/python2.7/site-packages/ipykernel_launcher.py:6: DataConversionWarning: A column-vector y was passed when a 1d array was expected. Please change the shape of y to (n_samples,), for example using ravel().\n",
      "  \n"
     ]
    }
   ],
   "source": [
    "col = ['srch_booking_window', 'orig_destination_distance', 'prop_desirability']\n",
    "target = pd.DataFrame(tr_cl_sample['booked_clicked_combined'])\n",
    "data = pd.DataFrame(tr_cl_sample[col])\n",
    "\n",
    "clf7 = RandomForestClassifier()\n",
    "clf7.fit(data, target)\n",
    "\n",
    "data_test = pd.DataFrame(te_cl_sample[col])\n",
    "target_test = pd.DataFrame(te_cl_sample['booked_clicked_combined'])\n",
    "\n",
    "predict = clf7.predict(data_test)"
   ]
  },
  {
   "cell_type": "code",
   "execution_count": 25,
   "metadata": {},
   "outputs": [
    {
     "name": "stdout",
     "output_type": "stream",
     "text": [
      "accuracy: 0.947974\n",
      "f1-score (micro): 0.947974\n",
      "f1-score (macro): 0.343486\n",
      "f1-score (weighted): 0.931150\n",
      "recall-score (micro): 0.947974\n",
      "recall-score (macro): 0.342035\n",
      "recall-score (weighted): 0.947974\n"
     ]
    }
   ],
   "source": [
    "acc = accuracy_score(target_test, predict)\n",
    "print('accuracy: %f' %acc)\n",
    "f1_ = f1_score(target_test, predict, average='micro')\n",
    "print('f1-score (micro): %f' %f1_)\n",
    "f1_ = f1_score(target_test, predict, average='macro')\n",
    "print('f1-score (macro): %f' %f1_)\n",
    "f1_ = f1_score(target_test, predict, average='weighted')\n",
    "print('f1-score (weighted): %f' %f1_)\n",
    "recall = recall_score(target_test, predict, average='micro')\n",
    "print('recall-score (micro): %f' %recall)\n",
    "recall = recall_score(target_test, predict, average='macro')\n",
    "print('recall-score (macro): %f' %recall)\n",
    "recall = recall_score(target_test, predict, average='weighted')\n",
    "print('recall-score (weighted): %f' %recall)"
   ]
  },
  {
   "cell_type": "code",
   "execution_count": 26,
   "metadata": {},
   "outputs": [
    {
     "name": "stderr",
     "output_type": "stream",
     "text": [
      "/Users/Tamika/anaconda/lib/python2.7/site-packages/ipykernel_launcher.py:6: DataConversionWarning: A column-vector y was passed when a 1d array was expected. Please change the shape of y to (n_samples,), for example using ravel().\n",
      "  \n"
     ]
    }
   ],
   "source": [
    "col = ['srch_booking_window', 'orig_destination_distance', 'price_usd', 'prop_location_score2', 'prop_desirability']\n",
    "target = pd.DataFrame(tr_cl_sample['booked_clicked_combined'])\n",
    "data = pd.DataFrame(tr_cl_sample[col])\n",
    "\n",
    "clf8 = RandomForestClassifier()\n",
    "clf8.fit(data, target)\n",
    "\n",
    "data_test = pd.DataFrame(te_cl_sample[col])\n",
    "target_test = pd.DataFrame(te_cl_sample['booked_clicked_combined'])\n",
    "\n",
    "predict = clf8.predict(data_test)"
   ]
  },
  {
   "cell_type": "code",
   "execution_count": 27,
   "metadata": {},
   "outputs": [
    {
     "name": "stdout",
     "output_type": "stream",
     "text": [
      "accuracy: 0.953787\n",
      "f1-score (micro): 0.953787\n",
      "f1-score (macro): 0.340575\n",
      "f1-score (weighted): 0.933727\n",
      "recall-score (micro): 0.953787\n",
      "recall-score (macro): 0.340760\n",
      "recall-score (weighted): 0.953787\n"
     ]
    }
   ],
   "source": [
    "acc = accuracy_score(target_test, predict)\n",
    "print('accuracy: %f' %acc)\n",
    "f1_ = f1_score(target_test, predict, average='micro')\n",
    "print('f1-score (micro): %f' %f1_)\n",
    "f1_ = f1_score(target_test, predict, average='macro')\n",
    "print('f1-score (macro): %f' %f1_)\n",
    "f1_ = f1_score(target_test, predict, average='weighted')\n",
    "print('f1-score (weighted): %f' %f1_)\n",
    "recall = recall_score(target_test, predict, average='micro')\n",
    "print('recall-score (micro): %f' %recall)\n",
    "recall = recall_score(target_test, predict, average='macro')\n",
    "print('recall-score (macro): %f' %recall)\n",
    "recall = recall_score(target_test, predict, average='weighted')\n",
    "print('recall-score (weighted): %f' %recall)"
   ]
  },
  {
   "cell_type": "code",
   "execution_count": 28,
   "metadata": {},
   "outputs": [
    {
     "name": "stderr",
     "output_type": "stream",
     "text": [
      "/Users/Tamika/anaconda/lib/python2.7/site-packages/ipykernel_launcher.py:6: DataConversionWarning: A column-vector y was passed when a 1d array was expected. Please change the shape of y to (n_samples,), for example using ravel().\n",
      "  \n"
     ]
    }
   ],
   "source": [
    "col = ['srch_booking_window', 'orig_destination_distance', 'price_usd', 'prop_location_score2', 'prop_desirability', 'star_diff_filled']\n",
    "target = pd.DataFrame(tr_cl_sample['booked_clicked_combined'])\n",
    "data = pd.DataFrame(tr_cl_sample[col])\n",
    "\n",
    "clf9 = RandomForestClassifier()\n",
    "clf9.fit(data, target)\n",
    "\n",
    "data_test = pd.DataFrame(te_cl_sample[col])\n",
    "target_test = pd.DataFrame(te_cl_sample['booked_clicked_combined'])\n",
    "\n",
    "predict = clf9.predict(data_test)"
   ]
  },
  {
   "cell_type": "code",
   "execution_count": 29,
   "metadata": {},
   "outputs": [
    {
     "name": "stdout",
     "output_type": "stream",
     "text": [
      "accuracy: 0.953981\n",
      "f1-score (micro): 0.953981\n",
      "f1-score (macro): 0.340128\n",
      "f1-score (weighted): 0.933778\n",
      "recall-score (micro): 0.953981\n",
      "recall-score (macro): 0.340524\n",
      "recall-score (weighted): 0.953981\n"
     ]
    }
   ],
   "source": [
    "acc = accuracy_score(target_test, predict)\n",
    "print('accuracy: %f' %acc)\n",
    "f1_ = f1_score(target_test, predict, average='micro')\n",
    "print('f1-score (micro): %f' %f1_)\n",
    "f1_ = f1_score(target_test, predict, average='macro')\n",
    "print('f1-score (macro): %f' %f1_)\n",
    "f1_ = f1_score(target_test, predict, average='weighted')\n",
    "print('f1-score (weighted): %f' %f1_)\n",
    "recall = recall_score(target_test, predict, average='micro')\n",
    "print('recall-score (micro): %f' %recall)\n",
    "recall = recall_score(target_test, predict, average='macro')\n",
    "print('recall-score (macro): %f' %recall)\n",
    "recall = recall_score(target_test, predict, average='weighted')\n",
    "print('recall-score (weighted): %f' %recall)"
   ]
  },
  {
   "cell_type": "code",
   "execution_count": 30,
   "metadata": {},
   "outputs": [
    {
     "name": "stderr",
     "output_type": "stream",
     "text": [
      "/Users/Tamika/anaconda/lib/python2.7/site-packages/ipykernel_launcher.py:6: DataConversionWarning: A column-vector y was passed when a 1d array was expected. Please change the shape of y to (n_samples,), for example using ravel().\n",
      "  \n"
     ]
    }
   ],
   "source": [
    "col = ['srch_booking_window', 'orig_destination_distance', 'price_usd', 'prop_location_score2', 'prop_desirability', 'star_diff_filled', 'srch_id']\n",
    "target = pd.DataFrame(tr_cl_sample['booked_clicked_combined'])\n",
    "data = pd.DataFrame(tr_cl_sample[col])\n",
    "\n",
    "clf10 = RandomForestClassifier()\n",
    "clf10.fit(data, target)\n",
    "\n",
    "data_test = pd.DataFrame(te_cl_sample[col])\n",
    "target_test = pd.DataFrame(te_cl_sample['booked_clicked_combined'])\n",
    "\n",
    "predict = clf10.predict(data_test)"
   ]
  },
  {
   "cell_type": "code",
   "execution_count": 31,
   "metadata": {},
   "outputs": [
    {
     "name": "stdout",
     "output_type": "stream",
     "text": [
      "accuracy: 0.954514\n",
      "f1-score (micro): 0.954514\n",
      "f1-score (macro): 0.336598\n",
      "f1-score (weighted): 0.933766\n",
      "recall-score (micro): 0.954514\n",
      "recall-score (macro): 0.338733\n",
      "recall-score (weighted): 0.954514\n"
     ]
    }
   ],
   "source": [
    "acc = accuracy_score(target_test, predict)\n",
    "print('accuracy: %f' %acc)\n",
    "f1_ = f1_score(target_test, predict, average='micro')\n",
    "print('f1-score (micro): %f' %f1_)\n",
    "f1_ = f1_score(target_test, predict, average='macro')\n",
    "print('f1-score (macro): %f' %f1_)\n",
    "f1_ = f1_score(target_test, predict, average='weighted')\n",
    "print('f1-score (weighted): %f' %f1_)\n",
    "recall = recall_score(target_test, predict, average='micro')\n",
    "print('recall-score (micro): %f' %recall)\n",
    "recall = recall_score(target_test, predict, average='macro')\n",
    "print('recall-score (macro): %f' %recall)\n",
    "recall = recall_score(target_test, predict, average='weighted')\n",
    "print('recall-score (weighted): %f' %recall)"
   ]
  },
  {
   "cell_type": "markdown",
   "metadata": {},
   "source": [
    "# predict booking_bool"
   ]
  },
  {
   "cell_type": "code",
   "execution_count": 33,
   "metadata": {},
   "outputs": [
    {
     "name": "stderr",
     "output_type": "stream",
     "text": [
      "/Users/Tamika/anaconda/lib/python2.7/site-packages/ipykernel_launcher.py:9: DataConversionWarning: A column-vector y was passed when a 1d array was expected. Please change the shape of y to (n_samples,), for example using ravel().\n",
      "  if __name__ == '__main__':\n"
     ]
    },
    {
     "name": "stdout",
     "output_type": "stream",
     "text": [
      "0\n",
      "accuracy: 0.971666\n",
      "f1-score (micro): 0.971666\n",
      "f1-score (macro): 0.508182\n",
      "f1-score (weighted): 0.958863\n",
      "recall-score (micro): 0.971666\n",
      "recall-score (macro): 0.507626\n",
      "recall-score (weighted): 0.971666\n",
      "1\n",
      "accuracy: 0.965263\n",
      "f1-score (micro): 0.965263\n",
      "f1-score (macro): 0.522681\n",
      "f1-score (weighted): 0.956543\n",
      "recall-score (micro): 0.965263\n",
      "recall-score (macro): 0.516801\n",
      "recall-score (weighted): 0.965263\n",
      "2\n",
      "accuracy: 0.965583\n",
      "f1-score (micro): 0.965583\n",
      "f1-score (macro): 0.496600\n",
      "f1-score (weighted): 0.955254\n",
      "recall-score (micro): 0.965583\n",
      "recall-score (macro): 0.499940\n",
      "recall-score (weighted): 0.965583\n",
      "3\n",
      "accuracy: 0.960629\n",
      "f1-score (micro): 0.960629\n",
      "f1-score (macro): 0.520081\n",
      "f1-score (weighted): 0.954122\n",
      "recall-score (micro): 0.960629\n",
      "recall-score (macro): 0.516039\n",
      "recall-score (weighted): 0.960629\n",
      "4\n",
      "accuracy: 0.968110\n",
      "f1-score (micro): 0.968110\n",
      "f1-score (macro): 0.515787\n",
      "f1-score (weighted): 0.957553\n",
      "recall-score (micro): 0.968110\n",
      "recall-score (macro): 0.511878\n",
      "recall-score (weighted): 0.968110\n",
      "5\n",
      "accuracy: 0.969106\n",
      "f1-score (micro): 0.969106\n",
      "f1-score (macro): 0.493470\n",
      "f1-score (weighted): 0.956799\n",
      "recall-score (micro): 0.969106\n",
      "recall-score (macro): 0.499229\n",
      "recall-score (weighted): 0.969106\n",
      "6\n",
      "accuracy: 0.968132\n",
      "f1-score (micro): 0.968132\n",
      "f1-score (macro): 0.513735\n",
      "f1-score (weighted): 0.957450\n",
      "recall-score (micro): 0.968132\n",
      "recall-score (macro): 0.510631\n",
      "recall-score (weighted): 0.968132\n",
      "7\n",
      "accuracy: 0.971246\n",
      "f1-score (micro): 0.971246\n",
      "f1-score (macro): 0.508633\n",
      "f1-score (weighted): 0.958684\n",
      "recall-score (micro): 0.971246\n",
      "recall-score (macro): 0.507823\n",
      "recall-score (weighted): 0.971246\n",
      "8\n",
      "accuracy: 0.971325\n",
      "f1-score (micro): 0.971325\n",
      "f1-score (macro): 0.509104\n",
      "f1-score (weighted): 0.958749\n",
      "recall-score (micro): 0.971325\n",
      "recall-score (macro): 0.508080\n",
      "recall-score (weighted): 0.971325\n",
      "9\n",
      "accuracy: 0.971682\n",
      "f1-score (micro): 0.971682\n",
      "f1-score (macro): 0.505288\n",
      "f1-score (weighted): 0.958710\n",
      "recall-score (micro): 0.971682\n",
      "recall-score (macro): 0.506125\n",
      "recall-score (weighted): 0.971682\n"
     ]
    }
   ],
   "source": [
    "diff_cols = [[c for c in tr_cl_sample.columns if c not in ['position', 'date_time', 'visitor_hist_starrating', 'visitor_hist_adr_usd', 'gross_bookings_usd', 'star_diff', 'price_diff', 'booking_bool', 'click_bool', 'booked_clicked_combined']], ['prop_desirability', 'price_usd', 'prop_location_score2', 'prop_location_score1'], ['price_diff_filled', 'srch_booking_window', 'orig_destination_distance'], ['prop_desirability', 'srch_id'], ['prop_desirability', 'orig_destination_distance', 'price_usd'], ['srch_id', 'orig_destination_distance', 'price_usd', 'willingness_to_pay'], ['srch_booking_window', 'orig_destination_distance', 'prop_desirability'], ['srch_booking_window', 'orig_destination_distance', 'price_usd', 'prop_location_score2', 'prop_desirability'], ['srch_booking_window', 'orig_destination_distance', 'price_usd', 'prop_location_score2', 'prop_desirability', 'star_diff_filled'], ['srch_booking_window', 'orig_destination_distance', 'price_usd', 'prop_location_score2', 'prop_desirability', 'star_diff_filled', 'srch_id']]\n",
    "\n",
    "for i in range(len(diff_cols)):\n",
    "    col = diff_cols[i]\n",
    "    target = pd.DataFrame(tr_cl_sample['booking_bool'])\n",
    "    data = pd.DataFrame(tr_cl_sample[col])\n",
    "\n",
    "    clf = RandomForestClassifier()\n",
    "    clf.fit(data, target)\n",
    "    \n",
    "    data_test = pd.DataFrame(te_cl_sample[col])\n",
    "    target_test = pd.DataFrame(te_cl_sample['booking_bool'])\n",
    "\n",
    "    predict = clf.predict(data_test)\n",
    "    \n",
    "    print(i)\n",
    "    acc = accuracy_score(target_test, predict)\n",
    "    print('accuracy: %f' %acc)\n",
    "    f1_ = f1_score(target_test, predict, average='micro')\n",
    "    print('f1-score (micro): %f' %f1_)\n",
    "    f1_ = f1_score(target_test, predict, average='macro')\n",
    "    print('f1-score (macro): %f' %f1_)\n",
    "    f1_ = f1_score(target_test, predict, average='weighted')\n",
    "    print('f1-score (weighted): %f' %f1_)\n",
    "    recall = recall_score(target_test, predict, average='micro')\n",
    "    print('recall-score (micro): %f' %recall)\n",
    "    recall = recall_score(target_test, predict, average='macro')\n",
    "    print('recall-score (macro): %f' %recall)\n",
    "    recall = recall_score(target_test, predict, average='weighted')\n",
    "    print('recall-score (weighted): %f' %recall)"
   ]
  },
  {
   "cell_type": "code",
   "execution_count": null,
   "metadata": {
    "collapsed": true
   },
   "outputs": [],
   "source": []
  }
 ],
 "metadata": {
  "kernelspec": {
   "display_name": "Python 3",
   "language": "python",
   "name": "python3"
  },
  "language_info": {
   "codemirror_mode": {
    "name": "ipython",
    "version": 2
   },
   "file_extension": ".py",
   "mimetype": "text/x-python",
   "name": "python",
   "nbconvert_exporter": "python",
   "pygments_lexer": "ipython2",
   "version": "2.7.13"
  }
 },
 "nbformat": 4,
 "nbformat_minor": 2
}
