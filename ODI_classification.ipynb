{
 "cells": [
  {
   "cell_type": "code",
   "execution_count": 4,
   "metadata": {},
   "outputs": [],
   "source": [
    "from sklearn.model_selection import cross_val_score, RepeatedStratifiedKFold\n",
    "from sklearn.tree import DecisionTreeClassifier\n",
    "from sklearn.svm import SVC\n",
    "from sklearn import preprocessing\n",
    "from sklearn.linear_model import LogisticRegression\n",
    "from sklearn.ensemble import RandomForestClassifier\n",
    "import numpy as np\n",
    "import pandas as pd"
   ]
  },
  {
   "cell_type": "code",
   "execution_count": 2,
   "metadata": {},
   "outputs": [],
   "source": [
    "missing_data = '-'"
   ]
  },
  {
   "cell_type": "code",
   "execution_count": 5,
   "metadata": {},
   "outputs": [],
   "source": [
    "db = pd.read_csv('ODI-2018_clean.csv')"
   ]
  },
  {
   "cell_type": "code",
   "execution_count": 6,
   "metadata": {},
   "outputs": [],
   "source": [
    "# create the discretized version of the money feature\n",
    "db['moneyBins'] = pd.qcut(db['money'], 3, np.arange(3))"
   ]
  },
  {
   "cell_type": "code",
   "execution_count": 7,
   "metadata": {},
   "outputs": [
    {
     "name": "stdout",
     "output_type": "stream",
     "text": [
      "['AI', 'BA', 'Bioinformatics', 'CLS', 'CS', 'Drug Discovery and Safety', 'Duisenberg Honor Programme', 'EOR', 'Economics', 'Exchange', 'Finance', 'Human Movement Science', 'MPA', 'Mathematics', 'PhD student', 'Physics', 'QRM', 'SBI']\n",
      "['no', 'yes']\n",
      "['no', 'yes']\n",
      "[0, 1, 2]\n",
      "['no', 'yes']\n"
     ]
    }
   ],
   "source": [
    "# try different feature sets\n",
    "features1 = ['programme','DB','y_birth']\n",
    "features2 = ['programme','DB','stat','gender']\n",
    "features3 = ['programme','DB','IR','moneyBins']\n",
    "target = 'ML'\n",
    "\n",
    "features = features3\n",
    "\n",
    "# drop rows where selected features are missing\n",
    "columns = np.append(features, target)\n",
    "classification_data = pd.DataFrame(db[columns].replace(missing_data, np.nan).dropna(), columns=columns)\n",
    "\n",
    "# transform features to numerical categories\n",
    "le = preprocessing.LabelEncoder()\n",
    "for c in columns:\n",
    "    classification_data[c] = le.fit_transform(classification_data[c])\n",
    "    print(list(le.classes_))\n",
    "    \n",
    "# encode categorial features as multiple binary features\n",
    "enc = preprocessing.OneHotEncoder()\n",
    "binary_features = enc.fit_transform(classification_data[features])"
   ]
  },
  {
   "cell_type": "code",
   "execution_count": 8,
   "metadata": {},
   "outputs": [
    {
     "name": "stdout",
     "output_type": "stream",
     "text": [
      "0.7185062656641604 0.7156177944862158 0.7600313283208021\n"
     ]
    }
   ],
   "source": [
    "# perform 10-times repeated 10-fold cross-validation\n",
    "cv = RepeatedStratifiedKFold(n_splits=10, n_repeats=10, random_state=0)\n",
    "\n",
    "dt_scores = cross_val_score(DecisionTreeClassifier(), binary_features, classification_data[target], cv=cv)\n",
    "rf_scores = cross_val_score(RandomForestClassifier(), binary_features, classification_data[target], cv=cv)\n",
    "lr_scores = cross_val_score(LogisticRegression(), binary_features, classification_data[target], cv=cv)\n",
    "print(np.mean(dt_scores), np.mean(rf_scores), np.mean(lr_scores))"
   ]
  },
  {
   "cell_type": "code",
   "execution_count": null,
   "metadata": {},
   "outputs": [],
   "source": []
  }
 ],
 "metadata": {
  "kernelspec": {
   "display_name": "Python 3",
   "language": "python",
   "name": "python3"
  },
  "language_info": {
   "codemirror_mode": {
    "name": "ipython",
    "version": 3
   },
   "file_extension": ".py",
   "mimetype": "text/x-python",
   "name": "python",
   "nbconvert_exporter": "python",
   "pygments_lexer": "ipython3",
   "version": "3.5.2"
  }
 },
 "nbformat": 4,
 "nbformat_minor": 2
}
