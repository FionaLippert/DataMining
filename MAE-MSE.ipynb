{
 "cells": [
  {
   "cell_type": "code",
   "execution_count": 70,
   "metadata": {
    "collapsed": true
   },
   "outputs": [],
   "source": [
    "import pandas as pd\n",
    "import numpy as np\n",
    "import seaborn as sb\n",
    "import matplotlib.pyplot as plt\n",
    "from sklearn import preprocessing\n",
    "from sklearn.model_selection import cross_val_score\n",
    "from sklearn.tree import DecisionTreeClassifier\n",
    "from sklearn.linear_model import LogisticRegression, LinearRegression\n",
    "from sklearn.ensemble import RandomForestClassifier\n",
    "from sklearn.neighbors import KNeighborsClassifier\n",
    "from sklearn.svm import SVC, SVR\n",
    "from sklearn import model_selection\n",
    "from sklearn.metrics import accuracy_score, classification_report, mean_squared_error, mean_absolute_error\n",
    "from sklearn.datasets import load_diabetes, load_digits\n",
    "from sklearn.preprocessing import PolynomialFeatures\n"
   ]
  },
  {
   "cell_type": "code",
   "execution_count": 71,
   "metadata": {},
   "outputs": [
    {
     "data": {
      "image/png": "[encoded data removed]",
      "text/plain": [
       "<matplotlib.figure.Figure at 0x11756ebd0>"
      ]
     },
     "metadata": {},
     "output_type": "display_data"
    },
    {
     "name": "stdout",
     "output_type": "stream",
     "text": [
      "Mean squared error linear: 2310.87\n",
      "Mean absolute error linear: 37.91\n",
      "Mean squared error RBF: 2614.96\n",
      "Mean absolute error RBF: 42.50\n",
      "Mean squared error Polynomial(2): 5065.25\n",
      "Mean absolute error Polynomial(2): 61.15\n"
     ]
    }
   ],
   "source": [
    "#http://scikit-learn.org/stable/datasets/index.html\n",
    "\n",
    "df = load_diabetes()\n",
    "\n",
    "df_X = df.data[:, np.newaxis, 2]\n",
    "\n",
    "df_X_train = df_X[:-20]\n",
    "df_X_test = df_X[-20:]\n",
    "\n",
    "df_y_train = df.target[:-20]\n",
    "df_y_test = df.target[-20:]\n",
    "\n",
    "svr_rbf = SVR(kernel='rbf', C=1e3, gamma=0.1)\n",
    "svr_lin = SVR(kernel='linear', C=1e3)\n",
    "svr_poly = SVR(kernel='poly', C=1e3, degree=10)\n",
    "y_rbf = svr_rbf.fit(df_X_train, df_y_train).predict(df_X_test)\n",
    "y_lin = svr_lin.fit(df_X_train, df_y_train).predict(df_X_test)\n",
    "y_poly = svr_poly.fit(df_X_train, df_y_train).predict(df_X_test)\n",
    "\n",
    "plt.figure()\n",
    "plt.scatter(df_X_test, df_y_test, color='black')\n",
    "plt.plot(df_X_test, y_rbf, label='RBF')\n",
    "plt.plot(df_X_test, y_lin, label='Lin')\n",
    "plt.plot(df_X_test, y_poly, label='Poly')\n",
    "plt.legend()\n",
    "#plt.savefig(\"MSE,MAE.png\", bbox_inches='tight')\n",
    "plt.show()\n",
    "\n",
    "print(\"Mean squared error linear: %.2f\" %mean_squared_error(df_y_test, y_lin))\n",
    "print(\"Mean absolute error linear: %.2f\" %mean_absolute_error(df_y_test, y_lin))\n",
    "print(\"Mean squared error RBF: %.2f\" %mean_squared_error(df_y_test, y_rbf))\n",
    "print(\"Mean absolute error RBF: %.2f\" %mean_absolute_error(df_y_test, y_rbf))\n",
    "print(\"Mean squared error Polynomial(2): %.2f\" %mean_squared_error(df_y_test, y_poly))\n",
    "print(\"Mean absolute error Polynomial(2): %.2f\" %mean_absolute_error(df_y_test, y_poly))"
   ]
  },
  {
   "cell_type": "code",
   "execution_count": null,
   "metadata": {},
   "outputs": [],
   "source": []
  },
  {
   "cell_type": "code",
   "execution_count": null,
   "metadata": {},
   "outputs": [],
   "source": [
    "\n"
   ]
  },
  {
   "cell_type": "code",
   "execution_count": null,
   "metadata": {
    "collapsed": true
   },
   "outputs": [],
   "source": []
  },
  {
   "cell_type": "code",
   "execution_count": null,
   "metadata": {
    "collapsed": true
   },
   "outputs": [],
   "source": []
  }
 ],
 "metadata": {
  "kernelspec": {
   "display_name": "Python 3",
   "language": "python",
   "name": "python3"
  },
  "language_info": {
   "codemirror_mode": {
    "name": "ipython",
    "version": 2
   },
   "file_extension": ".py",
   "mimetype": "text/x-python",
   "name": "python",
   "nbconvert_exporter": "python",
   "pygments_lexer": "ipython2",
   "version": "2.7.13"
  }
 },
 "nbformat": 4,
 "nbformat_minor": 2
}
